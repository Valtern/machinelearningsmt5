{
  "nbformat": 4,
  "nbformat_minor": 0,
  "metadata": {
    "colab": {
      "provenance": [],
      "include_colab_link": true
    },
    "kernelspec": {
      "name": "python3",
      "display_name": "Python 3"
    },
    "language_info": {
      "name": "python"
    }
  },
  "cells": [
    {
      "cell_type": "markdown",
      "metadata": {
        "id": "view-in-github",
        "colab_type": "text"
      },
      "source": [
        "<a href=\"https://colab.research.google.com/github/Valtern/machinelearningsmt5/blob/main/TG7_2341720067_ANTONIUS_KAHARAP_KAUTSAR.ipynb\" target=\"_parent\"><img src=\"https://colab.research.google.com/assets/colab-badge.svg\" alt=\"Open In Colab\"/></a>"
      ]
    },
    {
      "cell_type": "markdown",
      "source": [
        "# Lab 1"
      ],
      "metadata": {
        "id": "V0iep7iwqiA-"
      }
    },
    {
      "cell_type": "code",
      "execution_count": 1,
      "metadata": {
        "id": "K69Sn4btbbvq",
        "colab": {
          "base_uri": "https://localhost:8080/"
        },
        "outputId": "baba9b0c-9239-4a3c-8a8f-d7fddbbd97ad"
      },
      "outputs": [
        {
          "output_type": "stream",
          "name": "stdout",
          "text": [
            "Mounted at /content/drive\n"
          ]
        }
      ],
      "source": [
        "import google.colab.drive\n",
        "\n",
        "google.colab.drive.mount('/content/drive')"
      ]
    },
    {
      "cell_type": "code",
      "source": [
        "# Import Library\n",
        "!pip install annoy\n",
        "\n",
        "import numpy as np\n",
        "import matplotlib.pyplot as plt\n",
        "import time\n",
        "\n",
        "from annoy import AnnoyIndex"
      ],
      "metadata": {
        "colab": {
          "base_uri": "https://localhost:8080/"
        },
        "id": "SEdObYY5qg-v",
        "outputId": "ab949b02-961e-484a-8767-e9e849ac292b"
      },
      "execution_count": 55,
      "outputs": [
        {
          "output_type": "stream",
          "name": "stdout",
          "text": [
            "Requirement already satisfied: annoy in /usr/local/lib/python3.12/dist-packages (1.17.3)\n"
          ]
        }
      ]
    },
    {
      "cell_type": "code",
      "source": [
        "# Build Random Dataset and Query Point\n",
        "np.random.seed(42)\n",
        "n_points = 1000\n",
        "X = np.random.rand(n_points, 2) * 100  # random value at 100x100 space\n",
        "\n",
        "# Query point (pick 1 random data point)\n",
        "query = X[np.random.randint(0, n_points)]"
      ],
      "metadata": {
        "id": "5tOGcPn2qsJ2"
      },
      "execution_count": 3,
      "outputs": []
    },
    {
      "cell_type": "code",
      "source": [
        "# Compute Exact NN Using Brute Force\n",
        "# It will visit the data one by one\n",
        "start = time.time()\n",
        "distances = np.linalg.norm(X - query, axis=1)\n",
        "idx_exact = np.argsort(distances)[:3]  # ambil 3 terdekat\n",
        "time_exact = time.time() - start\n",
        "\n",
        "print(\"Exact NN index:\", idx_exact)\n",
        "print(\"Exact NN jarak:\", distances[idx_exact])\n",
        "print(\"Waktu Exact:\", round(time_exact*1000, 4), \"ms\")"
      ],
      "metadata": {
        "colab": {
          "base_uri": "https://localhost:8080/"
        },
        "id": "AjjpgtEdqu89",
        "outputId": "e4a512e3-fb8b-402d-c4d0-7cc5dee28269"
      },
      "execution_count": 4,
      "outputs": [
        {
          "output_type": "stream",
          "name": "stdout",
          "text": [
            "Exact NN index: [219 898 593]\n",
            "Exact NN jarak: [0.         1.36915938 2.27931544]\n",
            "Waktu Exact: 10.2365 ms\n"
          ]
        }
      ]
    },
    {
      "cell_type": "code",
      "source": [
        "# ANNOY 3 Tree\n",
        "f = 2  # dimensi\n",
        "t = AnnoyIndex(f, 'euclidean')\n",
        "for i, vec in enumerate(X):\n",
        "    t.add_item(i, vec)\n",
        "\n",
        "t.build(3)  # 3 trees\n",
        "\n",
        "start = time.time()\n",
        "idx_ann = t.get_nns_by_vector(query, 3)  # find 3 NN\n",
        "time_ann = time.time() - start\n",
        "\n",
        "print(\"\\nAnnoy NN index:\", idx_ann)\n",
        "print(\"Annoy NN jarak:\", [np.linalg.norm(X[i]-query) for i in idx_ann])\n",
        "print(\"Waktu Annoy:\", round(time_ann*1000, 4), \"ms\")"
      ],
      "metadata": {
        "colab": {
          "base_uri": "https://localhost:8080/"
        },
        "id": "Rj8Gifqwqxqf",
        "outputId": "6b62eba1-6233-4766-eacb-7df05dba0591"
      },
      "execution_count": 5,
      "outputs": [
        {
          "output_type": "stream",
          "name": "stdout",
          "text": [
            "\n",
            "Annoy NN index: [219, 898, 770]\n",
            "Annoy NN jarak: [np.float64(0.0), np.float64(1.369159376273702), np.float64(2.568167959732514)]\n",
            "Waktu Annoy: 0.1583 ms\n"
          ]
        }
      ]
    },
    {
      "cell_type": "code",
      "source": [
        "# Visualize\n",
        "# Knowing the NN produced by Exact NN and ANNOY\n",
        "plt.figure(figsize=(6,6))\n",
        "plt.scatter(X[:,0], X[:,1], c=\"lightgray\", s=20, label=\"Dataset\")\n",
        "plt.scatter(query[0], query[1], c=\"red\", marker=\"x\", s=100, label=\"Query\")\n",
        "\n",
        "# Exact NN ditandai biru\n",
        "plt.scatter(X[idx_exact,0], X[idx_exact,1], c=\"blue\", s=80, label=\"Exact NN\")\n",
        "\n",
        "# Annoy NN ditandai hijau\n",
        "plt.scatter(X[idx_ann,0], X[idx_ann,1], c=\"green\", s=50, marker=\"s\", label=\"Annoy NN\")\n",
        "\n",
        "plt.legend()\n",
        "plt.title(\"Exact NN vs Annoy NN (3 trees)\")\n",
        "plt.show()"
      ],
      "metadata": {
        "colab": {
          "base_uri": "https://localhost:8080/",
          "height": 545
        },
        "id": "ucSV5tHhq1kW",
        "outputId": "5b4e52c2-ec7b-4850-b8cd-cc4fa3cf556a"
      },
      "execution_count": 6,
      "outputs": [
        {
          "output_type": "display_data",
          "data": {
            "text/plain": [
              "<Figure size 600x600 with 1 Axes>"
            ],
            "image/png": "[encoded data removed]"
          },
          "metadata": {}
        }
      ]
    },
    {
      "cell_type": "markdown",
      "source": [
        "# Lab 2"
      ],
      "metadata": {
        "id": "q1gQ_UMsq7pZ"
      }
    },
    {
      "cell_type": "code",
      "source": [
        "!pip install faiss-cpu"
      ],
      "metadata": {
        "colab": {
          "base_uri": "https://localhost:8080/"
        },
        "id": "WMUfHKj0q8ya",
        "outputId": "59cceed7-c5c4-4fd4-c67d-2e82dcc6f01f"
      },
      "execution_count": 7,
      "outputs": [
        {
          "output_type": "stream",
          "name": "stdout",
          "text": [
            "Collecting faiss-cpu\n",
            "  Downloading faiss_cpu-1.12.0-cp312-cp312-manylinux_2_27_x86_64.manylinux_2_28_x86_64.whl.metadata (5.1 kB)\n",
            "Requirement already satisfied: numpy<3.0,>=1.25.0 in /usr/local/lib/python3.12/dist-packages (from faiss-cpu) (2.0.2)\n",
            "Requirement already satisfied: packaging in /usr/local/lib/python3.12/dist-packages (from faiss-cpu) (25.0)\n",
            "Downloading faiss_cpu-1.12.0-cp312-cp312-manylinux_2_27_x86_64.manylinux_2_28_x86_64.whl (31.4 MB)\n",
            "\u001b[2K   \u001b[90m━━━━━━━━━━━━━━━━━━━━━━━━━━━━━━━━━━━━━━━━\u001b[0m \u001b[32m31.4/31.4 MB\u001b[0m \u001b[31m33.3 MB/s\u001b[0m eta \u001b[36m0:00:00\u001b[0m\n",
            "\u001b[?25hInstalling collected packages: faiss-cpu\n",
            "Successfully installed faiss-cpu-1.12.0\n"
          ]
        }
      ]
    },
    {
      "cell_type": "code",
      "source": [
        "import numpy as np\n",
        "import faiss\n",
        "import matplotlib.pyplot as plt\n",
        "import time"
      ],
      "metadata": {
        "id": "st8CnDU4rEcu"
      },
      "execution_count": 8,
      "outputs": []
    },
    {
      "cell_type": "code",
      "source": [
        "# Build random data\n",
        "np.random.seed(42)\n",
        "X = np.random.rand(1000, 2).astype('float32')  # 1000 data 2D\n",
        "query = np.array([[0.5, 0.5]], dtype='float32')  # query point"
      ],
      "metadata": {
        "id": "35lU-FN6rGFp"
      },
      "execution_count": 9,
      "outputs": []
    },
    {
      "cell_type": "code",
      "source": [
        "# Search NN using Exact NN\n",
        "index_flat = faiss.IndexFlatL2(2)   # L2 = Euclidean distance\n",
        "index_flat.add(X)\n",
        "\n",
        "# Compute Exact NN Time\n",
        "start = time.time()\n",
        "D_flat, I_flat = index_flat.search(query, 3)  # Find 3 NN\n",
        "end = time.time()\n",
        "time_flat = end - start"
      ],
      "metadata": {
        "id": "4G7FdtJ4rHMK"
      },
      "execution_count": 10,
      "outputs": []
    },
    {
      "cell_type": "code",
      "source": [
        "# Compute FAISS\n",
        "nlist = 10   # n-cluster (inverted list)\n",
        "m = 2        # number of subvector\n",
        "quantizer = faiss.IndexFlatL2(2)   # used by IVF for initiatl cluster\n",
        "index_ivfpq = faiss.IndexIVFPQ(quantizer, 2, nlist, m, 8)  # 8 bit per subvector\n",
        "\n",
        "index_ivfpq.train(X)  # training centroid\n",
        "index_ivfpq.add(X)\n",
        "\n",
        "start = time.time()\n",
        "D_ivfpq, I_ivfpq = index_ivfpq.search(query, 3)\n",
        "end = time.time()\n",
        "time_ivfpq = end - start"
      ],
      "metadata": {
        "id": "0_izGzLVrIR5"
      },
      "execution_count": 11,
      "outputs": []
    },
    {
      "cell_type": "code",
      "source": [
        "# Print The Peformances\n",
        "print(\"Exact NN (Flat) indices:\", I_flat, \"distances:\", D_flat)\n",
        "print(\"IVF+PQ indices:\", I_ivfpq, \"distances:\", D_ivfpq)\n",
        "print(\"Waktu Exact:\", time_flat)\n",
        "print(\"Waktu IVF+PQ:\", time_ivfpq)"
      ],
      "metadata": {
        "colab": {
          "base_uri": "https://localhost:8080/"
        },
        "id": "kbsfQL_KrJZU",
        "outputId": "5d1a1e27-1e20-4be2-a9a1-8eb7df1d50ea"
      },
      "execution_count": 12,
      "outputs": [
        {
          "output_type": "stream",
          "name": "stdout",
          "text": [
            "Exact NN (Flat) indices: [[137 170 750]] distances: [[0.00013095 0.00077404 0.00079751]]\n",
            "IVF+PQ indices: [[137 170 750]] distances: [[0.00012945 0.00079226 0.00080067]]\n",
            "Waktu Exact: 0.0002739429473876953\n",
            "Waktu IVF+PQ: 0.00018072128295898438\n"
          ]
        }
      ]
    },
    {
      "cell_type": "code",
      "source": [
        "# Visualize\n",
        "plt.scatter(X[:,0], X[:,1], alpha=0.4, label=\"Dataset\")\n",
        "plt.scatter(query[:,0], query[:,1], c='red', marker='*', s=200, label=\"Query\")\n",
        "\n",
        "# Flat NN -> Exact NN\n",
        "plt.scatter(X[I_flat[0],0], X[I_flat[0],1], c='blue', s=100, edgecolor='k', label=\"Exact NN\")\n",
        "\n",
        "# IVF+PQ NN -> FAISS\n",
        "plt.scatter(X[I_ivfpq[0],0], X[I_ivfpq[0],1], c='green', marker='x', s=100, label=\"IVF+PQ NN\")\n",
        "\n",
        "plt.legend()\n",
        "plt.title(\"Exact NN vs FAISS IVF+PQ\")\n",
        "plt.show()"
      ],
      "metadata": {
        "colab": {
          "base_uri": "https://localhost:8080/",
          "height": 452
        },
        "id": "l6SkoSG0rK_J",
        "outputId": "a32ed1aa-4520-480d-d6b2-d72d93a380cb"
      },
      "execution_count": 13,
      "outputs": [
        {
          "output_type": "display_data",
          "data": {
            "text/plain": [
              "<Figure size 640x480 with 1 Axes>"
            ],
            "image/png": "[encoded data removed]"
          },
          "metadata": {}
        }
      ]
    },
    {
      "cell_type": "markdown",
      "source": [
        "# Lab 3"
      ],
      "metadata": {
        "id": "oNfWeY6UrNDL"
      }
    },
    {
      "cell_type": "code",
      "source": [
        "!pip install hnswlib"
      ],
      "metadata": {
        "colab": {
          "base_uri": "https://localhost:8080/"
        },
        "id": "6HSxsbBOrOVH",
        "outputId": "37c8f24b-4a01-4a9c-b413-851b4e87b1ff"
      },
      "execution_count": 14,
      "outputs": [
        {
          "output_type": "stream",
          "name": "stdout",
          "text": [
            "Collecting hnswlib\n",
            "  Downloading hnswlib-0.8.0.tar.gz (36 kB)\n",
            "  Installing build dependencies ... \u001b[?25l\u001b[?25hdone\n",
            "  Getting requirements to build wheel ... \u001b[?25l\u001b[?25hdone\n",
            "  Preparing metadata (pyproject.toml) ... \u001b[?25l\u001b[?25hdone\n",
            "Requirement already satisfied: numpy in /usr/local/lib/python3.12/dist-packages (from hnswlib) (2.0.2)\n",
            "Building wheels for collected packages: hnswlib\n",
            "  Building wheel for hnswlib (pyproject.toml) ... \u001b[?25l\u001b[?25hdone\n",
            "  Created wheel for hnswlib: filename=hnswlib-0.8.0-cp312-cp312-linux_x86_64.whl size=2528141 sha256=fb7fc8684d6e4064a045ea2fa993a3f7e35ecb0c1b0d42d46fb53452e25f7379\n",
            "  Stored in directory: /root/.cache/pip/wheels/ac/39/b3/cbd7f9cbb76501d2d5fbc84956e70d0b94e788aac87bda465e\n",
            "Successfully built hnswlib\n",
            "Installing collected packages: hnswlib\n",
            "Successfully installed hnswlib-0.8.0\n"
          ]
        }
      ]
    },
    {
      "cell_type": "code",
      "source": [
        "import hnswlib\n",
        "import numpy as np\n",
        "import time\n",
        "from sklearn.neighbors import NearestNeighbors"
      ],
      "metadata": {
        "id": "Tq89Mh9orR8G"
      },
      "execution_count": 15,
      "outputs": []
    },
    {
      "cell_type": "code",
      "source": [
        "# Build Dummy Dataset\n",
        "num_elements = 1000\n",
        "dim = 2\n",
        "data = np.random.random((num_elements, dim)).astype(np.float32)\n",
        "\n",
        "# Query point\n",
        "query = np.array([[0.5, 0.5]], dtype=np.float32)\n",
        "k = 5  # cari 5 tetangga terdekat"
      ],
      "metadata": {
        "id": "KkR_PTcqrS1b"
      },
      "execution_count": 16,
      "outputs": []
    },
    {
      "cell_type": "code",
      "source": [
        "# Build NN Model\n",
        "nn = NearestNeighbors(n_neighbors=k, algorithm='brute', metric='euclidean')\n",
        "nn.fit(data)\n",
        "\n",
        "# Compute time performace\n",
        "start = time.time()\n",
        "distances, indices = nn.kneighbors(query)\n",
        "end = time.time()\n",
        "\n",
        "print(\"=== Exact NN ===\")\n",
        "print(\"Indices:\", indices)\n",
        "print(\"Distances:\", distances)\n",
        "print(\"Waktu:\", end - start, \"s\")"
      ],
      "metadata": {
        "colab": {
          "base_uri": "https://localhost:8080/"
        },
        "id": "gsF2BYUXrVFI",
        "outputId": "9e0d7b9e-6fcc-46f6-c02a-fc590233b3f6"
      },
      "execution_count": 17,
      "outputs": [
        {
          "output_type": "stream",
          "name": "stdout",
          "text": [
            "=== Exact NN ===\n",
            "Indices: [[830 247 473 913 592]]\n",
            "Distances: [[0.00993625 0.01363944 0.01646171 0.03779694 0.03859071]]\n",
            "Waktu: 0.1329975128173828 s\n"
          ]
        }
      ]
    },
    {
      "cell_type": "code",
      "source": [
        "# Initiate Index\n",
        "p = hnswlib.Index(space='l2', dim=dim)\n",
        "\n",
        "# Define Max Elements\n",
        "p.init_index(max_elements=num_elements, ef_construction=100, M=16)\n",
        "\n",
        "# Add Data\n",
        "p.add_items(data)\n",
        "\n",
        "# Set searching parameter\n",
        "p.set_ef(50)   # tradeoff speed vs accuracy\n",
        "\n",
        "start = time.time()\n",
        "labels, distances = p.knn_query(query, k=k)\n",
        "end = time.time()\n",
        "\n",
        "print(\"\\n=== HNSW ===\")\n",
        "print(\"Indices:\", labels)\n",
        "print(\"Distances:\", distances)\n",
        "print(\"Waktu:\", end - start, \"s\")"
      ],
      "metadata": {
        "colab": {
          "base_uri": "https://localhost:8080/"
        },
        "id": "vVWcF-vBrXI7",
        "outputId": "e142b90a-7565-463e-ec50-eab09ba9f208"
      },
      "execution_count": 18,
      "outputs": [
        {
          "output_type": "stream",
          "name": "stdout",
          "text": [
            "\n",
            "=== HNSW ===\n",
            "Indices: [[830 247 473 913 592]]\n",
            "Distances: [[9.8728990e-05 1.8603441e-04 2.7098786e-04 1.4286089e-03 1.4892431e-03]]\n",
            "Waktu: 0.00020575523376464844 s\n"
          ]
        }
      ]
    },
    {
      "cell_type": "markdown",
      "source": [
        "# Lab 4"
      ],
      "metadata": {
        "id": "pfOWVCP0rnIq"
      }
    },
    {
      "cell_type": "code",
      "source": [
        "import numpy as np\n",
        "import time\n",
        "from annoy import AnnoyIndex\n",
        "import faiss\n",
        "import hnswlib\n",
        "\n",
        "# ===============================\n",
        "# Build 1mio rows with 5D\n",
        "# ===============================\n",
        "n_data = 1_000_000   # try 100_000 if you have limited memory\n",
        "dim = 5\n",
        "X = np.random.random((n_data, dim)).astype(np.float32)\n",
        "\n",
        "# Query point\n",
        "query = np.random.random((1, dim)).astype(np.float32)\n",
        "k = 10\n",
        "\n",
        "# ===============================\n",
        "# 2. Annoy\n",
        "# ===============================\n",
        "print(\"=== Annoy ===\")\n",
        "ann_index = AnnoyIndex(dim, 'euclidean')\n",
        "\n",
        "start = time.time()\n",
        "for i in range(n_data):\n",
        "    ann_index.add_item(i, X[i])\n",
        "ann_index.build(10)  # 10 trees\n",
        "build_time = time.time() - start\n",
        "\n",
        "start = time.time()\n",
        "neighbors = ann_index.get_nns_by_vector(query[0], k, include_distances=True)\n",
        "query_time = time.time() - start\n",
        "\n",
        "print(\"Build time:\", build_time, \"detik\")\n",
        "print(\"Query time:\", query_time, \"detik\")\n",
        "print(\"Neighbors:\", neighbors[0][:5], \"...\")\n",
        "\n",
        "# ===============================\n",
        "# 3. FAISS (Flat Index)\n",
        "# ===============================\n",
        "print(\"\\n=== FAISS (IndexFlatL2) ===\")\n",
        "faiss_index = faiss.IndexFlatL2(dim)\n",
        "\n",
        "start = time.time()\n",
        "faiss_index.add(X)\n",
        "build_time = time.time() - start\n",
        "\n",
        "start = time.time()\n",
        "distances, indices = faiss_index.search(query, k)\n",
        "query_time = time.time() - start\n",
        "\n",
        "print(\"Build time:\", build_time, \"detik\")\n",
        "print(\"Query time:\", query_time, \"detik\")\n",
        "print(\"Neighbors:\", indices[0][:5], \"...\")\n",
        "\n",
        "# ===============================\n",
        "# 4. HNSW (hnswlib)\n",
        "# ===============================\n",
        "print(\"\\n=== HNSW (hnswlib) ===\")\n",
        "hnsw_index = hnswlib.Index(space='l2', dim=dim)\n",
        "\n",
        "start = time.time()\n",
        "hnsw_index.init_index(max_elements=n_data, ef_construction=200, M=16)\n",
        "hnsw_index.add_items(X)\n",
        "build_time = time.time() - start\n",
        "\n",
        "hnsw_index.set_ef(50)\n",
        "\n",
        "start = time.time()\n",
        "labels, distances = hnsw_index.knn_query(query, k=k)\n",
        "query_time = time.time() - start\n",
        "\n",
        "print(\"Build time:\", build_time, \"detik\")\n",
        "print(\"Query time:\", query_time, \"detik\")\n",
        "print(\"Neighbors:\", labels[0][:5], \"...\")"
      ],
      "metadata": {
        "colab": {
          "base_uri": "https://localhost:8080/"
        },
        "id": "naQuaNPmrmAI",
        "outputId": "c263b6bc-4a0b-4d5f-9b0a-825638cf49c4"
      },
      "execution_count": 19,
      "outputs": [
        {
          "output_type": "stream",
          "name": "stdout",
          "text": [
            "=== Annoy ===\n",
            "Build time: 44.826985359191895 detik\n",
            "Query time: 0.0003161430358886719 detik\n",
            "Neighbors: [129179, 559276, 630783, 213191, 559393] ...\n",
            "\n",
            "=== FAISS (IndexFlatL2) ===\n",
            "Build time: 0.020629405975341797 detik\n",
            "Query time: 0.008837699890136719 detik\n",
            "Neighbors: [129179 559276 630783 213191 559393] ...\n",
            "\n",
            "=== HNSW (hnswlib) ===\n",
            "Build time: 190.1501190662384 detik\n",
            "Query time: 0.0002338886260986328 detik\n",
            "Neighbors: [129179 559276 630783 213191 559393] ...\n"
          ]
        }
      ]
    },
    {
      "cell_type": "markdown",
      "source": [
        "**Lab 5**"
      ],
      "metadata": {
        "id": "N4Hibcf9rr0T"
      }
    },
    {
      "cell_type": "code",
      "source": [
        "import numpy as np\n",
        "import time\n",
        "import faiss\n",
        "from annoy import AnnoyIndex\n",
        "import hnswlib\n",
        "import matplotlib.pyplot as plt\n",
        "\n",
        "# -------------------------------\n",
        "# Dataset random\n",
        "# -------------------------------\n",
        "d = 128        # dimensi\n",
        "nb = 100000    # jumlah database vector\n",
        "nq = 1000      # jumlah query\n",
        "\n",
        "np.random.seed(42)\n",
        "xb = np.random.random((nb, d)).astype('float32')\n",
        "xq = np.random.random((nq, d)).astype('float32')\n",
        "\n",
        "# -------------------------------\n",
        "# Ground truth dengan FAISS brute force\n",
        "# -------------------------------\n",
        "index_flat = faiss.IndexFlatL2(d)\n",
        "index_flat.add(xb)\n",
        "k = 10\n",
        "_, gt_idx = index_flat.search(xq, k)\n",
        "\n",
        "# -------------------------------\n",
        "# Fungsi recall\n",
        "# -------------------------------\n",
        "def recall_at_k(I_pred, I_gt, k):\n",
        "    correct = 0\n",
        "    for i in range(len(I_pred)):\n",
        "        correct += len(set(I_pred[i][:k]) & set(I_gt[i][:k]))\n",
        "    return correct / (len(I_pred) * k)\n",
        "\n",
        "# -------------------------------\n",
        "# Benchmark Annoy\n",
        "# -------------------------------\n",
        "def run_annoy(xb, xq, n_trees=10, search_k=1000, k=10):\n",
        "    f = xb.shape[1]\n",
        "    index = AnnoyIndex(f, 'euclidean')\n",
        "    for i, v in enumerate(xb):\n",
        "        index.add_item(i, v)\n",
        "    index.build(n_trees)\n",
        "\n",
        "    start = time.time()\n",
        "    I = [index.get_nns_by_vector(v, k, search_k=search_k) for v in xq]\n",
        "    elapsed = (time.time() - start) * 1000 / len(xq)  # ms/query\n",
        "    rec = recall_at_k(I, gt_idx, k)\n",
        "    return rec, elapsed\n",
        "\n",
        "# -------------------------------\n",
        "# Benchmark FAISS IVF\n",
        "# -------------------------------\n",
        "def run_faiss(xb, xq, nlist=100, nprobe=10, k=10):\n",
        "    quantizer = faiss.IndexFlatL2(d)\n",
        "    index = faiss.IndexIVFFlat(quantizer, d, nlist, faiss.METRIC_L2)\n",
        "    index.train(xb)\n",
        "    index.add(xb)\n",
        "\n",
        "    index.nprobe = nprobe\n",
        "    start = time.time()\n",
        "    _, I = index.search(xq, k)\n",
        "    elapsed = (time.time() - start) * 1000 / len(xq)\n",
        "    rec = recall_at_k(I, gt_idx, k)\n",
        "    return rec, elapsed\n",
        "\n",
        "# -------------------------------\n",
        "# Benchmark HNSW\n",
        "# -------------------------------\n",
        "def run_hnsw(xb, xq, ef=100, M=16, k=10):\n",
        "    num_elements = xb.shape[0]\n",
        "    p = hnswlib.Index(space='l2', dim=d)\n",
        "    p.init_index(max_elements=num_elements, ef_construction=200, M=M)\n",
        "    p.add_items(xb)\n",
        "    p.set_ef(ef)\n",
        "\n",
        "    start = time.time()\n",
        "    I, _ = p.knn_query(xq, k)\n",
        "    elapsed = (time.time() - start) * 1000 / len(xq)\n",
        "    rec = recall_at_k(I, gt_idx, k)\n",
        "    return rec, elapsed\n",
        "\n",
        "# -------------------------------\n",
        "# Jalankan benchmark dengan beberapa parameter\n",
        "# -------------------------------\n",
        "results = {\"Annoy\": [], \"Faiss\": [], \"HNSW\": []}\n",
        "\n",
        "# Annoy\n",
        "for sk in [200, 500, 1000, 2000]:\n",
        "    rec, t = run_annoy(xb, xq, n_trees=10, search_k=sk)\n",
        "    results[\"Annoy\"].append((rec, t))\n",
        "\n",
        "# FAISS\n",
        "for npb in [1, 5, 10, 20]:\n",
        "    rec, t = run_faiss(xb, xq, nlist=100, nprobe=npb)\n",
        "    results[\"Faiss\"].append((rec, t))\n",
        "\n",
        "# HNSW\n",
        "for ef in [50, 100, 200, 400]:\n",
        "    rec, t = run_hnsw(xb, xq, ef=ef)\n",
        "    results[\"HNSW\"].append((rec, t))\n",
        "\n",
        "# -------------------------------\n",
        "# Visualisasi trade-off\n",
        "# -------------------------------\n",
        "plt.figure(figsize=(8,6))\n",
        "for label, color in zip(results.keys(), [\"blue\",\"green\",\"red\"]):\n",
        "    recall, qtime = zip(*results[label])\n",
        "    plt.plot(recall, qtime, marker=\"o\", label=label, color=color)\n",
        "\n",
        "plt.xlabel(\"Recall\")\n",
        "plt.ylabel(\"Query Time (ms/query, log scale)\")\n",
        "plt.yscale(\"log\")\n",
        "plt.gca().invert_yaxis()  # invert Y, makin kanan makin turun\n",
        "plt.title(\"ANN Benchmark (Annoy vs Faiss vs HNSW)\")\n",
        "plt.legend()\n",
        "plt.grid(True, which=\"both\", ls=\"--\", alpha=0.6)\n",
        "plt.show()"
      ],
      "metadata": {
        "colab": {
          "base_uri": "https://localhost:8080/",
          "height": 564
        },
        "id": "Cu_yeK9_rtIA",
        "outputId": "3192c183-9b2b-43d5-9a69-5d6dba1c31b7"
      },
      "execution_count": 20,
      "outputs": [
        {
          "output_type": "display_data",
          "data": {
            "text/plain": [
              "<Figure size 800x600 with 1 Axes>"
            ],
            "image/png": "[encoded data removed]"
          },
          "metadata": {}
        }
      ]
    },
    {
      "cell_type": "markdown",
      "source": [
        "# Lab Assignment 1"
      ],
      "metadata": {
        "id": "qDUrxJEJuMQx"
      }
    },
    {
      "cell_type": "markdown",
      "source": [
        "Perform model performance comparison using ANNOY, FAISS, and HNWH using this following criteria, and fill the performance in term of time of execution."
      ],
      "metadata": {
        "id": "0VswU6ATuRU-"
      }
    },
    {
      "cell_type": "markdown",
      "source": [
        "<table>\n",
        "<thead>\n",
        "<tr>\n",
        "<th width=\"263.32421875\">Criteria (Rows/Dimension)</th>\n",
        "<th>ANNOY</th>\n",
        "<th>FAISS</th>\n",
        "<th>HNSW</th>\n",
        "</tr>\n",
        "</thead>\n",
        "<tbody>\n",
        "<tr>\n",
        "<td>1000/2D</td>\n",
        "<td>0.0124 s</td>\n",
        "<td>0.0762 s</td>\n",
        "<td>0.0290 s</td>\n",
        "</tr>\n",
        "<tr>\n",
        "<td>1000/5D</td>\n",
        "<td>0.0085 s</td>\n",
        "<td>0.0254 s</td>\n",
        "<td>0.0333 s</td>\n",
        "</tr>\n",
        "<tr>\n",
        "<td>1000000/2D</td>\n",
        "<td>33.1855 s</td>\n",
        "<td>1.1956 s</td>\n",
        "<td>68.8494 s</td>\n",
        "</tr>\n",
        "<tr>\n",
        "<td>1000000/5D</td>\n",
        "<td>39.3648 s</td>\n",
        "<td>2.5394 s</td>\n",
        "<td>118.1813 s</td>\n",
        "</tr>\n",
        "</tbody>\n",
        "</table>\n"
      ],
      "metadata": {
        "id": "Oy6-rI4puTgZ"
      }
    },
    {
      "cell_type": "markdown",
      "source": [
        "**ANNOY**"
      ],
      "metadata": {
        "id": "YAkOQ_7HwSfG"
      }
    },
    {
      "cell_type": "markdown",
      "source": [
        "1000 Data"
      ],
      "metadata": {
        "id": "ZryFhwYp2BvN"
      }
    },
    {
      "cell_type": "code",
      "source": [
        "np.random.seed(22)\n",
        "n_points = 1000\n",
        "X = np.random.rand(n_points, 2) * 100\n",
        "\n",
        "query = X[np.random.randint(0, n_points)]\n",
        "\n",
        "f = 2\n",
        "t = AnnoyIndex(f, 'euclidean')\n",
        "\n",
        "start_build = time.time()\n",
        "\n",
        "for i, vec in enumerate(X):\n",
        "    t.add_item(i, vec)\n",
        "\n",
        "t.build(3)\n",
        "\n",
        "end_build = time.time()\n",
        "build_time = end_build - start_build\n",
        "\n",
        "start_query = time.time()\n",
        "\n",
        "idx_ann = t.get_nns_by_vector(query, 3)\n",
        "\n",
        "end_query = time.time()\n",
        "query_time = end_query - start_query\n",
        "\n",
        "print(f\"Annoy Build Time for 1000/2D: {build_time:.4f} seconds\")\n",
        "print(f\"Annoy Query Time for 1000/2D: {query_time * 1000:.4f} ms\")"
      ],
      "metadata": {
        "colab": {
          "base_uri": "https://localhost:8080/"
        },
        "id": "hM17pCpnvJKZ",
        "outputId": "76ca0798-8809-40f5-d1ac-c90391b068ac"
      },
      "execution_count": 37,
      "outputs": [
        {
          "output_type": "stream",
          "name": "stdout",
          "text": [
            "Annoy Build Time for 1000/2D: 0.0124 seconds\n",
            "Annoy Query Time for 1000/2D: 0.1373 ms\n"
          ]
        }
      ]
    },
    {
      "cell_type": "code",
      "source": [
        "np.random.seed(22)\n",
        "n_points = 1000\n",
        "X = np.random.rand(n_points, 5) * 100\n",
        "\n",
        "query = X[np.random.randint(0, n_points)]\n",
        "\n",
        "f = 5\n",
        "t = AnnoyIndex(f, 'euclidean')\n",
        "\n",
        "start_build = time.time()\n",
        "\n",
        "for i, vec in enumerate(X):\n",
        "    t.add_item(i, vec)\n",
        "\n",
        "t.build(3)\n",
        "\n",
        "end_build = time.time()\n",
        "build_time = end_build - start_build\n",
        "\n",
        "start_query = time.time()\n",
        "\n",
        "idx_ann = t.get_nns_by_vector(query, 3)\n",
        "\n",
        "end_query = time.time()\n",
        "query_time = end_query - start_query\n",
        "\n",
        "print(f\"Annoy Build Time for 1000/5D: {build_time:.4f} seconds\")\n",
        "print(f\"Annoy Query Time for 1000/5D: {query_time * 1000:.4f} ms\")"
      ],
      "metadata": {
        "colab": {
          "base_uri": "https://localhost:8080/"
        },
        "id": "5kq8adMnv-cL",
        "outputId": "5d8684f6-865a-43d2-a62a-329b3719d7a7"
      },
      "execution_count": 53,
      "outputs": [
        {
          "output_type": "stream",
          "name": "stdout",
          "text": [
            "Annoy Build Time for 1000/5D: 0.0085 seconds\n",
            "Annoy Query Time for 1000/5D: 0.2155 ms\n"
          ]
        }
      ]
    },
    {
      "cell_type": "markdown",
      "source": [
        "1000000 Data"
      ],
      "metadata": {
        "id": "7-1wVcO_2DxQ"
      }
    },
    {
      "cell_type": "code",
      "source": [
        "np.random.seed(22)\n",
        "n_points = 1000000\n",
        "X = np.random.rand(n_points, 2).astype(np.float32) * 100\n",
        "\n",
        "query = X[np.random.randint(0, n_points)]\n",
        "\n",
        "f = 2\n",
        "t = AnnoyIndex(f, 'euclidean')\n",
        "\n",
        "start_build = time.time()\n",
        "\n",
        "for i, vec in enumerate(X):\n",
        "    t.add_item(i, vec)\n",
        "\n",
        "t.build(10)\n",
        "\n",
        "end_build = time.time()\n",
        "build_time = end_build - start_build\n",
        "\n",
        "start_query = time.time()\n",
        "\n",
        "idx_ann = t.get_nns_by_vector(query, 3)\n",
        "\n",
        "end_query = time.time()\n",
        "query_time = end_query - start_query\n",
        "\n",
        "print(f\"Annoy Build Time for 1000000/2D: {build_time:.4f} seconds\")\n",
        "print(f\"Annoy Query Time for 1000000/2D: {query_time * 1000:.4f} ms\")"
      ],
      "metadata": {
        "colab": {
          "base_uri": "https://localhost:8080/"
        },
        "id": "Rn3wcrdswG7d",
        "outputId": "11af2468-3a50-42d9-d2d0-62312878fdfb"
      },
      "execution_count": 39,
      "outputs": [
        {
          "output_type": "stream",
          "name": "stdout",
          "text": [
            "Annoy Build Time for 1000000/2D: 33.1855 seconds\n",
            "Annoy Query Time for 1000000/2D: 0.1879 ms\n"
          ]
        }
      ]
    },
    {
      "cell_type": "code",
      "source": [
        "np.random.seed(22)\n",
        "n_points = 1000000\n",
        "X = np.random.rand(n_points, 5).astype(np.float32) * 100\n",
        "\n",
        "query = X[np.random.randint(0, n_points)]\n",
        "\n",
        "f = 5\n",
        "t = AnnoyIndex(f, 'euclidean')\n",
        "\n",
        "start_build = time.time()\n",
        "\n",
        "for i, vec in enumerate(X):\n",
        "    t.add_item(i, vec)\n",
        "\n",
        "t.build(10)\n",
        "\n",
        "end_build = time.time()\n",
        "build_time = end_build - start_build\n",
        "\n",
        "start_query = time.time()\n",
        "\n",
        "idx_ann = t.get_nns_by_vector(query, 3)\n",
        "\n",
        "end_query = time.time()\n",
        "query_time = end_query - start_query\n",
        "\n",
        "print(f\"Annoy Build Time for 1000000/5D: {build_time:.4f} seconds\")\n",
        "print(f\"Annoy Query Time for 1000000/5D: {query_time * 1000:.4f} ms\")"
      ],
      "metadata": {
        "colab": {
          "base_uri": "https://localhost:8080/"
        },
        "id": "EN69Rt6UxAna",
        "outputId": "53dd7870-f013-41cb-9db8-42d8fbdf8a62"
      },
      "execution_count": 40,
      "outputs": [
        {
          "output_type": "stream",
          "name": "stdout",
          "text": [
            "Annoy Build Time for 1000000/5D: 39.3648 seconds\n",
            "Annoy Query Time for 1000000/5D: 0.2367 ms\n"
          ]
        }
      ]
    },
    {
      "cell_type": "markdown",
      "source": [
        "**FAISS**"
      ],
      "metadata": {
        "id": "aiq2xrkixPFY"
      }
    },
    {
      "cell_type": "markdown",
      "source": [
        "1000 Data"
      ],
      "metadata": {
        "id": "5w1tg98XzSmQ"
      }
    },
    {
      "cell_type": "code",
      "source": [
        "np.random.seed(22)\n",
        "X = np.random.rand(1000, 2).astype('float32')\n",
        "query = np.array([[0.5, 0.5]], dtype='float32')\n",
        "\n",
        "nlist = 10\n",
        "m = 2\n",
        "quantizer = faiss.IndexFlatL2(2)\n",
        "index_ivfpq = faiss.IndexIVFPQ(quantizer, 2, nlist, m, 8)\n",
        "\n",
        "start_build = time.time()\n",
        "\n",
        "index_ivfpq.train(X)\n",
        "index_ivfpq.add(X)\n",
        "\n",
        "end_build = time.time()\n",
        "build_time = end_build - start_build\n",
        "\n",
        "start_query = time.time()\n",
        "\n",
        "D_ivfpq, I_ivfpq = index_ivfpq.search(query, 3)\n",
        "\n",
        "end_query = time.time()\n",
        "query_time = end_query - start_query\n",
        "\n",
        "print(f\"FAISS Build Time for 1000/2D: {build_time:.4f} seconds\")\n",
        "print(f\"FAISS Query Time for 1000/2D: {query_time * 1000:.4f} ms\")"
      ],
      "metadata": {
        "id": "Cr512TsNxYRu",
        "outputId": "c6f0f806-e9f4-4f88-ecf0-d5f18f3597a9",
        "colab": {
          "base_uri": "https://localhost:8080/"
        }
      },
      "execution_count": 54,
      "outputs": [
        {
          "output_type": "stream",
          "name": "stdout",
          "text": [
            "FAISS Build Time for 1000/2D: 0.0762 seconds\n",
            "FAISS Query Time for 1000/2D: 0.2403 ms\n"
          ]
        }
      ]
    },
    {
      "cell_type": "code",
      "source": [
        "dim = 5\n",
        "n_points = 1000\n",
        "X = np.random.rand(n_points, dim).astype('float32')\n",
        "\n",
        "query = X[np.random.randint(0, n_points)].reshape(1, -1)\n",
        "\n",
        "nlist = 10\n",
        "m = 5\n",
        "quantizer = faiss.IndexFlatL2(dim)\n",
        "index_ivfpq = faiss.IndexIVFPQ(quantizer, dim, nlist, m, 8)\n",
        "\n",
        "start_build = time.time()\n",
        "\n",
        "index_ivfpq.train(X)\n",
        "index_ivfpq.add(X)\n",
        "\n",
        "end_build = time.time()\n",
        "build_time = end_build - start_build\n",
        "\n",
        "start_query = time.time()\n",
        "\n",
        "D_ivfpq, I_ivfpq = index_ivfpq.search(query, 3)\n",
        "\n",
        "end_query = time.time()\n",
        "query_time = end_query - start_query\n",
        "\n",
        "print(f\"FAISS Build Time for 1000/5D: {build_time:.4f} seconds\")\n",
        "print(f\"FAISS Query Time for 1000/5D: {query_time * 1000:.4f} ms\")"
      ],
      "metadata": {
        "colab": {
          "base_uri": "https://localhost:8080/"
        },
        "id": "LHlaxweyx5AZ",
        "outputId": "0a73e86b-ed44-4747-a494-bece54ce6734"
      },
      "execution_count": 45,
      "outputs": [
        {
          "output_type": "stream",
          "name": "stdout",
          "text": [
            "FAISS Build Time for 1000/5D: 0.0254 seconds\n",
            "FAISS Query Time for 1000/5D: 0.1996 ms\n"
          ]
        }
      ]
    },
    {
      "cell_type": "markdown",
      "source": [
        "1000000 Data\n",
        "\n"
      ],
      "metadata": {
        "id": "mZqYY7CdzY9b"
      }
    },
    {
      "cell_type": "code",
      "source": [
        "np.random.seed(22)\n",
        "X = np.random.rand(1000000, 2).astype('float32')\n",
        "query = np.array([[0.5, 0.5]], dtype='float32')\n",
        "\n",
        "nlist = 10\n",
        "m = 2\n",
        "quantizer = faiss.IndexFlatL2(2)\n",
        "index_ivfpq = faiss.IndexIVFPQ(quantizer, 2, nlist, m, 8)\n",
        "\n",
        "start_build = time.time()\n",
        "\n",
        "index_ivfpq.train(X)\n",
        "index_ivfpq.add(X)\n",
        "\n",
        "end_build = time.time()\n",
        "build_time = end_build - start_build\n",
        "\n",
        "start_query = time.time()\n",
        "\n",
        "D_ivfpq, I_ivfpq = index_ivfpq.search(query, 3)\n",
        "\n",
        "end_query = time.time()\n",
        "query_time = end_query - start_query\n",
        "\n",
        "print(f\"FAISS Build Time for 1000000/2D: {build_time:.4f} seconds\")\n",
        "print(f\"FAISS Query Time for 1000000/2D: {query_time * 1000:.4f} ms\")"
      ],
      "metadata": {
        "id": "Lxj6bw0dzbZq",
        "outputId": "9fcc1aa1-bd83-47ac-96b2-27e86ad8993f",
        "colab": {
          "base_uri": "https://localhost:8080/"
        }
      },
      "execution_count": 43,
      "outputs": [
        {
          "output_type": "stream",
          "name": "stdout",
          "text": [
            "FAISS Build Time for 1000000/2D: 1.1956 seconds\n",
            "FAISS Query Time for 1000000/2D: 1.2450 ms\n"
          ]
        }
      ]
    },
    {
      "cell_type": "code",
      "source": [
        "dim = 5\n",
        "n_points = 1000000\n",
        "X = np.random.rand(n_points, dim).astype('float32')\n",
        "\n",
        "query = X[np.random.randint(0, n_points)].reshape(1, -1)\n",
        "\n",
        "nlist = 10\n",
        "m = 5\n",
        "quantizer = faiss.IndexFlatL2(dim)\n",
        "index_ivfpq = faiss.IndexIVFPQ(quantizer, dim, nlist, m, 8)\n",
        "\n",
        "start_build = time.time()\n",
        "\n",
        "index_ivfpq.train(X)\n",
        "index_ivfpq.add(X)\n",
        "\n",
        "end_build = time.time()\n",
        "build_time = end_build - start_build\n",
        "\n",
        "start_query = time.time()\n",
        "\n",
        "D_ivfpq, I_ivfpq = index_ivfpq.search(query, 3)\n",
        "\n",
        "end_query = time.time()\n",
        "query_time = end_query - start_query\n",
        "\n",
        "print(f\"FAISS Build Time for 1000000/5D: {build_time:.4f} seconds\")\n",
        "print(f\"FAISS Query Time for 1000000/5D: {query_time * 1000:.4f} ms\")"
      ],
      "metadata": {
        "id": "-t7gdq9tznTN",
        "outputId": "f00150be-30a3-4e0d-8a22-16ae9b9777c5",
        "colab": {
          "base_uri": "https://localhost:8080/"
        }
      },
      "execution_count": 46,
      "outputs": [
        {
          "output_type": "stream",
          "name": "stdout",
          "text": [
            "FAISS Build Time for 1000000/5D: 2.5394 seconds\n",
            "FAISS Query Time for 1000000/5D: 1.3416 ms\n"
          ]
        }
      ]
    },
    {
      "cell_type": "markdown",
      "source": [
        "**HNSW**"
      ],
      "metadata": {
        "id": "VqsO2q_P0bjF"
      }
    },
    {
      "cell_type": "markdown",
      "source": [
        "1000 Data"
      ],
      "metadata": {
        "id": "KC_xr5AM0flY"
      }
    },
    {
      "cell_type": "code",
      "source": [
        "num_elements = 1000\n",
        "dim = 2\n",
        "data = np.random.random((num_elements, dim)).astype(np.float32)\n",
        "\n",
        "query = np.array([[0.5, 0.5]], dtype=np.float32)\n",
        "k = 5\n",
        "p = hnswlib.Index(space='l2', dim=dim)\n",
        "\n",
        "start_build = time.time()\n",
        "\n",
        "p.init_index(max_elements=num_elements, ef_construction=100, M=16)\n",
        "p.add_items(data)\n",
        "\n",
        "end_build = time.time()\n",
        "build_time = end_build - start_build\n",
        "\n",
        "p.set_ef(50)\n",
        "start_query = time.time()\n",
        "\n",
        "labels, distances = p.knn_query(query, k=k)\n",
        "\n",
        "end_query = time.time()\n",
        "query_time = end_query - start_query\n",
        "\n",
        "print(\"\\n=== HNSW ===\")\n",
        "print(f\"HNSW Build Time for 1000/2D: {build_time:.4f} seconds\")\n",
        "print(f\"HNSW Query Time for 1000/2D: {query_time * 1000:.4f} ms\")"
      ],
      "metadata": {
        "id": "lnGk0Buo0gwu",
        "outputId": "cf0c9508-8466-440a-d023-ed154283b6e9",
        "colab": {
          "base_uri": "https://localhost:8080/"
        }
      },
      "execution_count": 49,
      "outputs": [
        {
          "output_type": "stream",
          "name": "stdout",
          "text": [
            "\n",
            "=== HNSW ===\n",
            "HNSW Build Time for 1000/2D: 0.0290 seconds\n",
            "HNSW Query Time for 1000/2D: 0.1724 ms\n"
          ]
        }
      ]
    },
    {
      "cell_type": "code",
      "source": [
        "num_elements = 1000\n",
        "dim = 5\n",
        "data = np.random.random((num_elements, dim)).astype(np.float32)\n",
        "\n",
        "\n",
        "query = np.random.random((1, dim)).astype(np.float32)\n",
        "k = 5\n",
        "p = hnswlib.Index(space='l2', dim=dim)\n",
        "\n",
        "start_build = time.time()\n",
        "\n",
        "p.init_index(max_elements=num_elements, ef_construction=100, M=16)\n",
        "p.add_items(data)\n",
        "\n",
        "end_build = time.time()\n",
        "build_time = end_build - start_build\n",
        "\n",
        "p.set_ef(50)\n",
        "start_query = time.time()\n",
        "\n",
        "labels, distances = p.knn_query(query, k=k)\n",
        "\n",
        "end_query = time.time()\n",
        "query_time = end_query - start_query\n",
        "\n",
        "print(\"\\n=== HNSW ===\")\n",
        "print(f\"HNSW Build Time for 1000/2D: {build_time:.4f} seconds\")\n",
        "print(f\"HNSW Query Time for 1000/2D: {query_time * 1000:.4f} ms\")"
      ],
      "metadata": {
        "id": "EhDdxWHv1TrK",
        "outputId": "2d2f9f17-b8a3-49e7-ffc3-6f88ad02c22d",
        "colab": {
          "base_uri": "https://localhost:8080/"
        }
      },
      "execution_count": 50,
      "outputs": [
        {
          "output_type": "stream",
          "name": "stdout",
          "text": [
            "\n",
            "=== HNSW ===\n",
            "HNSW Build Time for 1000/2D: 0.0333 seconds\n",
            "HNSW Query Time for 1000/2D: 0.2241 ms\n"
          ]
        }
      ]
    },
    {
      "cell_type": "markdown",
      "source": [
        "1000000 Data"
      ],
      "metadata": {
        "id": "ulT6aydl1hc2"
      }
    },
    {
      "cell_type": "code",
      "source": [
        "num_elements = 1000000\n",
        "dim = 2\n",
        "data = np.random.random((num_elements, dim)).astype(np.float32)\n",
        "\n",
        "query = np.array([[0.5, 0.5]], dtype=np.float32)\n",
        "k = 5\n",
        "p = hnswlib.Index(space='l2', dim=dim)\n",
        "\n",
        "start_build = time.time()\n",
        "\n",
        "p.init_index(max_elements=num_elements, ef_construction=100, M=16)\n",
        "p.add_items(data)\n",
        "\n",
        "end_build = time.time()\n",
        "build_time = end_build - start_build\n",
        "\n",
        "p.set_ef(50)\n",
        "start_query = time.time()\n",
        "\n",
        "labels, distances = p.knn_query(query, k=k)\n",
        "\n",
        "end_query = time.time()\n",
        "query_time = end_query - start_query\n",
        "\n",
        "print(\"\\n=== HNSW ===\")\n",
        "print(f\"HNSW Build Time for 1000000/2D: {build_time:.4f} seconds\")\n",
        "print(f\"HNSW Query Time for 1000000/2D: {query_time * 1000:.4f} ms\")"
      ],
      "metadata": {
        "id": "SC6mpp6H1lML",
        "outputId": "de8e99fc-99a2-43de-9e17-9eaa0e181765",
        "colab": {
          "base_uri": "https://localhost:8080/"
        }
      },
      "execution_count": 51,
      "outputs": [
        {
          "output_type": "stream",
          "name": "stdout",
          "text": [
            "\n",
            "=== HNSW ===\n",
            "HNSW Build Time for 1000000/2D: 68.8494 seconds\n",
            "HNSW Query Time for 1000000/2D: 0.1962 ms\n"
          ]
        }
      ]
    },
    {
      "cell_type": "code",
      "source": [
        "num_elements = 1000000\n",
        "dim = 5\n",
        "data = np.random.random((num_elements, dim)).astype(np.float32)\n",
        "\n",
        "query = np.random.random((1, dim)).astype(np.float32)\n",
        "k = 5\n",
        "p = hnswlib.Index(space='l2', dim=dim)\n",
        "\n",
        "start_build = time.time()\n",
        "\n",
        "p.init_index(max_elements=num_elements, ef_construction=100, M=16)\n",
        "p.add_items(data)\n",
        "\n",
        "end_build = time.time()\n",
        "build_time = end_build - start_build\n",
        "\n",
        "p.set_ef(50)\n",
        "start_query = time.time()\n",
        "\n",
        "labels, distances = p.knn_query(query, k=k)\n",
        "\n",
        "end_query = time.time()\n",
        "query_time = end_query - start_query\n",
        "\n",
        "print(\"\\n=== HNSW ===\")\n",
        "print(f\"HNSW Build Time for 1000000/5D: {build_time:.4f} seconds\")\n",
        "print(f\"HNSW Query Time for 1000000/5D: {query_time * 1000:.4f} ms\")"
      ],
      "metadata": {
        "id": "EgM96eaJ1rtd",
        "outputId": "dd0ae9e5-b0f6-49cd-dd14-9bffb61c9ec3",
        "colab": {
          "base_uri": "https://localhost:8080/"
        }
      },
      "execution_count": 52,
      "outputs": [
        {
          "output_type": "stream",
          "name": "stdout",
          "text": [
            "\n",
            "=== HNSW ===\n",
            "HNSW Build Time for 1000000/5D: 118.1813 seconds\n",
            "HNSW Query Time for 1000000/5D: 0.5758 ms\n"
          ]
        }
      ]
    },
    {
      "cell_type": "markdown",
      "source": [
        "# Lab assignment 2"
      ],
      "metadata": {
        "id": "gh-rRfDQ2K9l"
      }
    },
    {
      "cell_type": "markdown",
      "source": [
        "Conduct an experiment using Annoy, FAISS, and HNSWLIB on a large secondary dataset (Micro Spotify) available at the following link:\n",
        "👉 https://www.kaggle.com/datasets/bwandowando/spotify-songs-with-attributes-and-lyrics/data\n",
        "\n",
        "1. Download the data and load the CSV file (select the first dataset of the two available).\n",
        "\n",
        "2. Select only the numerical features, and normalize them using StandardScaler.\n",
        "\n",
        "3. Perform nearest track search and compare the results.\n",
        "\n",
        "4. Compare the performance among Exact NN, Annoy, FAISS, and HNSW."
      ],
      "metadata": {
        "id": "NwcqfNbs2aUg"
      }
    },
    {
      "cell_type": "code",
      "source": [
        "import pandas as pd\n",
        "import numpy as np\n",
        "import time\n",
        "import faiss\n",
        "from annoy import AnnoyIndex\n",
        "import hnswlib\n",
        "from sklearn.neighbors import NearestNeighbors\n",
        "from sklearn.preprocessing import StandardScaler\n",
        "\n",
        "# -------------------------------\n",
        "# Load dataset\n",
        "# -------------------------------\n",
        "df = pd.read_csv('/content/drive/MyDrive/MLearning/songs_with_attributes_and_lyrics.csv')\n",
        "features = ['danceability', 'energy', 'loudness', 'speechiness',\n",
        "            'acousticness', 'instrumentalness', 'liveness', 'valence', 'tempo']\n",
        "df_features = df.dropna(subset=features + ['name']).reset_index(drop=True)\n",
        "X = df_features[features].values\n",
        "\n",
        "# Standarisasi fitur\n",
        "scaler = StandardScaler()\n",
        "X_scaled = scaler.fit_transform(X)\n",
        "\n",
        "k = 10"
      ],
      "metadata": {
        "id": "qGiWri2H2fIe"
      },
      "execution_count": 61,
      "outputs": []
    },
    {
      "cell_type": "markdown",
      "source": [
        "**Using a song for a reference**"
      ],
      "metadata": {
        "id": "O-ENiPSXqiq6"
      }
    },
    {
      "cell_type": "code",
      "source": [
        "query_song_name = \"Gangsta's Paradise\"\n",
        "query_song_indices = df_features[df_features['name'] == query_song_name].index\n",
        "\n",
        "if len(query_song_indices) > 0:\n",
        "    query_song_index = query_song_indices[0]\n",
        "    query_vector = X_scaled[query_song_index]\n",
        "else:\n",
        "    print(f\"'{query_song_name}' not found. Using the first song as a query.\")\n",
        "    query_song_index = 0\n",
        "    query_vector = X_scaled[query_song_index]"
      ],
      "metadata": {
        "id": "ipf3Cklmp9W7"
      },
      "execution_count": 62,
      "outputs": []
    },
    {
      "cell_type": "markdown",
      "source": [
        "**ANN**"
      ],
      "metadata": {
        "id": "Bv6GbmsFqnzk"
      }
    },
    {
      "cell_type": "code",
      "source": [
        "start_time = time.time()\n",
        "nn = NearestNeighbors(n_neighbors=k, algorithm='brute', metric='euclidean')\n",
        "nn.fit(X_scaled)\n",
        "build_time_exact = time.time() - start_time\n",
        "\n",
        "start_time = time.time()\n",
        "distances_exact, indices_exact = nn.kneighbors([query_vector])\n",
        "query_time_exact = time.time() - start_time\n",
        "\n",
        "print(f\"Build Time: {build_time_exact:.4f} seconds\")\n",
        "print(f\"Query Time: {query_time_exact * 1000:.4f} ms\")\n",
        "print(\"Nearest Neighbors:\")\n",
        "for i in range(k):\n",
        "    print(f\"{i+1}. {df_features.iloc[indices_exact[0][i]]['name']} by {df_features.iloc[indices_exact[0][i]]['artists']} (distance: {distances_exact[0][i]:.4f})\")"
      ],
      "metadata": {
        "id": "oPGTGLA3qOak",
        "outputId": "4979ec4d-3b2f-4213-d4ae-5673d2d55741",
        "colab": {
          "base_uri": "https://localhost:8080/"
        }
      },
      "execution_count": 63,
      "outputs": [
        {
          "output_type": "stream",
          "name": "stdout",
          "text": [
            "Build Time: 0.0838 seconds\n",
            "Query Time: 54.5468 ms\n",
            "Nearest Neighbors:\n",
            "1. Gangsta's Paradise by Coolio;L.V. (distance: 0.0000)\n",
            "2. Gangsta's Paradise by ['Coolio', 'L.V.'] (distance: 0.0040)\n",
            "3. Ain't No Sunshine by ['Christina Christian'] (distance: 0.3368)\n",
            "4. Got Me Waiting - Remix by Heavy D & The Boyz (distance: 0.3555)\n",
            "5. Often - Kygo Remix by The Weeknd (distance: 0.4846)\n",
            "6. Afraid of Me by Jelly Roll (distance: 0.4879)\n",
            "7. Wild Horses by ['Prefab Sprout'] (distance: 0.5081)\n",
            "8. Bug by ['Alex G'] (distance: 0.5301)\n",
            "9. It's Alright by ['Chanté Moore'] (distance: 0.5361)\n",
            "10. Sólo Lágrimas by Renacer (distance: 0.5819)\n"
          ]
        }
      ]
    },
    {
      "cell_type": "markdown",
      "source": [
        "**ANNOY**"
      ],
      "metadata": {
        "id": "awq0ID_iqqb6"
      }
    },
    {
      "cell_type": "code",
      "source": [
        "f = len(features)\n",
        "t = AnnoyIndex(f, 'euclidean')\n",
        "\n",
        "start_build = time.time()\n",
        "for i, vec in enumerate(X_scaled):\n",
        "    t.add_item(i, vec)\n",
        "t.build(10)\n",
        "end_build = time.time()\n",
        "build_time_annoy = end_build - start_build\n",
        "\n",
        "start_query = time.time()\n",
        "indices_annoy = t.get_nns_by_vector(query_vector, k)\n",
        "end_query = time.time()\n",
        "query_time_annoy = end_query - start_query\n",
        "\n",
        "print(f\"Build Time: {build_time_annoy:.4f} seconds\")\n",
        "print(f\"Query Time: {query_time_annoy * 1000:.4f} ms\")\n",
        "print(\"Nearest Neighbors:\")\n",
        "for i in range(k):\n",
        "    print(f\"{i+1}. {df_features.iloc[indices_annoy[i]]['name']} by {df_features.iloc[indices_annoy[i]]['artists']}\")"
      ],
      "metadata": {
        "id": "iMZlC6QFqVST",
        "outputId": "ba738304-7053-41f6-f122-10e805ec706a",
        "colab": {
          "base_uri": "https://localhost:8080/"
        }
      },
      "execution_count": 64,
      "outputs": [
        {
          "output_type": "stream",
          "name": "stdout",
          "text": [
            "Build Time: 20.1566 seconds\n",
            "Query Time: 0.3262 ms\n",
            "Nearest Neighbors:\n",
            "1. Gangsta's Paradise by Coolio;L.V.\n",
            "2. Gangsta's Paradise by ['Coolio', 'L.V.']\n",
            "3. Ain't No Sunshine by ['Christina Christian']\n",
            "4. Got Me Waiting - Remix by Heavy D & The Boyz\n",
            "5. Often - Kygo Remix by The Weeknd\n",
            "6. Afraid of Me by Jelly Roll\n",
            "7. Wild Horses by ['Prefab Sprout']\n",
            "8. Bug by ['Alex G']\n",
            "9. It's Alright by ['Chanté Moore']\n",
            "10. Plans by ['Maude Latour']\n"
          ]
        }
      ]
    },
    {
      "cell_type": "markdown",
      "source": [
        "**FAISS**"
      ],
      "metadata": {
        "id": "zTVkqfiOqsPU"
      }
    },
    {
      "cell_type": "code",
      "source": [
        "dim = len(features)\n",
        "index_faiss = faiss.IndexFlatL2(dim)\n",
        "\n",
        "start_build = time.time()\n",
        "index_faiss.add(X_scaled.astype('float32'))\n",
        "end_build = time.time()\n",
        "build_time_faiss = end_build - start_build\n",
        "\n",
        "start_query = time.time()\n",
        "distances_faiss, indices_faiss = index_faiss.search(np.array([query_vector]).astype('float32'), k)\n",
        "end_query = time.time()\n",
        "query_time_faiss = end_query - start_query\n",
        "\n",
        "print(f\"Build Time: {build_time_faiss:.4f} seconds\")\n",
        "print(f\"Query Time: {query_time_faiss * 1000:.4f} ms\")\n",
        "print(\"Nearest Neighbors:\")\n",
        "for i in range(k):\n",
        "    print(f\"{i+1}. {df_features.iloc[indices_faiss[0][i]]['name']} by {df_features.iloc[indices_faiss[0][i]]['artists']} (distance: {distances_faiss[0][i]:.4f})\")"
      ],
      "metadata": {
        "id": "_9ATndt_qXo0",
        "outputId": "eb0e0e7e-81c2-4542-de91-3db742d25937",
        "colab": {
          "base_uri": "https://localhost:8080/"
        }
      },
      "execution_count": 65,
      "outputs": [
        {
          "output_type": "stream",
          "name": "stdout",
          "text": [
            "Build Time: 0.0448 seconds\n",
            "Query Time: 7.6957 ms\n",
            "Nearest Neighbors:\n",
            "1. Gangsta's Paradise by Coolio;L.V. (distance: 0.0000)\n",
            "2. Gangsta's Paradise by ['Coolio', 'L.V.'] (distance: 0.0000)\n",
            "3. Ain't No Sunshine by ['Christina Christian'] (distance: 0.1134)\n",
            "4. Got Me Waiting - Remix by Heavy D & The Boyz (distance: 0.1264)\n",
            "5. Often - Kygo Remix by The Weeknd (distance: 0.2348)\n",
            "6. Afraid of Me by Jelly Roll (distance: 0.2380)\n",
            "7. Wild Horses by ['Prefab Sprout'] (distance: 0.2581)\n",
            "8. Bug by ['Alex G'] (distance: 0.2810)\n",
            "9. It's Alright by ['Chanté Moore'] (distance: 0.2874)\n",
            "10. Sólo Lágrimas by Renacer (distance: 0.3386)\n"
          ]
        }
      ]
    },
    {
      "cell_type": "markdown",
      "source": [
        "**HNSW**"
      ],
      "metadata": {
        "id": "G8DLYE0yqteB"
      }
    },
    {
      "cell_type": "code",
      "source": [
        "num_elements = len(X_scaled)\n",
        "dim = len(features)\n",
        "p = hnswlib.Index(space='l2', dim=dim)\n",
        "\n",
        "start_build = time.time()\n",
        "p.init_index(max_elements=num_elements, ef_construction=200, M=16)\n",
        "p.add_items(X_scaled)\n",
        "end_build = time.time()\n",
        "build_time_hnsw = end_build - start_build\n",
        "\n",
        "p.set_ef(50)\n",
        "start_query = time.time()\n",
        "indices_hnsw, distances_hnsw = p.knn_query(np.array([query_vector]), k=k)\n",
        "end_query = time.time()\n",
        "query_time_hnsw = end_query - start_query\n",
        "\n",
        "print(f\"Build Time: {build_time_hnsw:.4f} seconds\")\n",
        "print(f\"Query Time: {query_time_hnsw * 1000:.4f} ms\")\n",
        "print(\"Nearest Neighbors:\")\n",
        "for i in range(k):\n",
        "    print(f\"{i+1}. {df_features.iloc[indices_hnsw[0][i]]['name']} by {df_features.iloc[indices_hnsw[0][i]]['artists']} (distance: {distances_hnsw[0][i]:.4f})\")"
      ],
      "metadata": {
        "id": "7ZbAtewIqYHO",
        "outputId": "cd57e57e-e0e5-4eca-90b4-7f25918637e3",
        "colab": {
          "base_uri": "https://localhost:8080/"
        }
      },
      "execution_count": 66,
      "outputs": [
        {
          "output_type": "stream",
          "name": "stdout",
          "text": [
            "Build Time: 239.5428 seconds\n",
            "Query Time: 0.9191 ms\n",
            "Nearest Neighbors:\n",
            "1. Gangsta's Paradise by Coolio;L.V. (distance: 0.0000)\n",
            "2. Gangsta's Paradise by ['Coolio', 'L.V.'] (distance: 0.0000)\n",
            "3. Ain't No Sunshine by ['Christina Christian'] (distance: 0.1134)\n",
            "4. Got Me Waiting - Remix by Heavy D & The Boyz (distance: 0.1264)\n",
            "5. Often - Kygo Remix by The Weeknd (distance: 0.2348)\n",
            "6. Afraid of Me by Jelly Roll (distance: 0.2380)\n",
            "7. Wild Horses by ['Prefab Sprout'] (distance: 0.2581)\n",
            "8. Bug by ['Alex G'] (distance: 0.2810)\n",
            "9. It's Alright by ['Chanté Moore'] (distance: 0.2874)\n",
            "10. Sólo Lágrimas by Renacer (distance: 0.3386)\n"
          ]
        }
      ]
    },
    {
      "cell_type": "markdown",
      "source": [
        "**Comparison**"
      ],
      "metadata": {
        "id": "WLW27djiqvSN"
      }
    },
    {
      "cell_type": "code",
      "source": [
        "print(\"\\n--- Comparison ---\")\n",
        "data = {'Method': ['Exact NN', 'ANNOY', 'FAISS', 'HNSW'],\n",
        "        'Build Time (s)': [build_time_exact, build_time_annoy, build_time_faiss, build_time_hnsw],\n",
        "        'Query Time (ms)': [query_time_exact * 1000, query_time_annoy * 1000, query_time_faiss * 1000, query_time_hnsw * 1000]}\n",
        "comparison_df = pd.DataFrame(data)\n",
        "print(comparison_df)"
      ],
      "metadata": {
        "id": "8IWNebKjqbEY",
        "outputId": "9da3684a-d889-4839-b925-9639dc1a5f0a",
        "colab": {
          "base_uri": "https://localhost:8080/"
        }
      },
      "execution_count": 67,
      "outputs": [
        {
          "output_type": "stream",
          "name": "stdout",
          "text": [
            "\n",
            "--- Comparison ---\n",
            "     Method  Build Time (s)  Query Time (ms)\n",
            "0  Exact NN        0.083820        54.546833\n",
            "1     ANNOY       20.156560         0.326157\n",
            "2     FAISS        0.044760         7.695675\n",
            "3      HNSW      239.542823         0.919104\n"
          ]
        }
      ]
    },
    {
      "cell_type": "markdown",
      "source": [
        "**What I can conclude from this comparison**"
      ],
      "metadata": {
        "id": "x-pjV0hZsgXj"
      }
    },
    {
      "cell_type": "markdown",
      "source": [
        "In essence, what we have is a trade off between preparation time and actually searching. ANNOY and HNSW had to wait for an age to set up, particularly HNSW, but when set up, found our track nearly immediately. The standard Exact NN method was the reverse, had zero set up time but was the slowest when actually set up.\n",
        "\n",
        "FAISS is definitely an amazing compromise for us. It was incredibly fast to prepare and was still pretty fast to search for the song. So if we need good compromise between fast search and fast preparation, FAISS is definitely worth the choice."
      ],
      "metadata": {
        "id": "ckEF4pNvslhU"
      }
    }
  ]
}