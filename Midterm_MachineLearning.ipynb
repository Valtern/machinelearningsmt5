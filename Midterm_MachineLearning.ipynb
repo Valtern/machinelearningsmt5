{
  "nbformat": 4,
  "nbformat_minor": 0,
  "metadata": {
    "colab": {
      "provenance": [],
      "authorship_tag": "ABX9TyP0rf+YYgUO3WqhbCRHPp/g",
      "include_colab_link": true
    },
    "kernelspec": {
      "name": "python3",
      "display_name": "Python 3"
    },
    "language_info": {
      "name": "python"
    }
  },
  "cells": [
    {
      "cell_type": "markdown",
      "metadata": {
        "id": "view-in-github",
        "colab_type": "text"
      },
      "source": [
        "<a href=\"https://colab.research.google.com/github/Valtern/machinelearningsmt5/blob/main/Midterm_MachineLearning.ipynb\" target=\"_parent\"><img src=\"https://colab.research.google.com/assets/colab-badge.svg\" alt=\"Open In Colab\"/></a>"
      ]
    },
    {
      "cell_type": "code",
      "execution_count": 137,
      "metadata": {
        "id": "fB-Xs8uFSRj3",
        "colab": {
          "base_uri": "https://localhost:8080/"
        },
        "outputId": "3ca1cf7d-5b98-472c-cbb7-dbb58c2d2a5b"
      },
      "outputs": [
        {
          "output_type": "stream",
          "name": "stdout",
          "text": [
            "Drive already mounted at /content/drive; to attempt to forcibly remount, call drive.mount(\"/content/drive\", force_remount=True).\n"
          ]
        }
      ],
      "source": [
        "import google.colab.drive\n",
        "google.colab.drive.mount('/content/drive')"
      ]
    },
    {
      "cell_type": "code",
      "metadata": {
        "colab": {
          "base_uri": "https://localhost:8080/"
        },
        "id": "233444c8",
        "outputId": "fd59db64-0ad0-4895-e07b-59c8e91cdf9c"
      },
      "source": [
        "!pip install annoy"
      ],
      "execution_count": 138,
      "outputs": [
        {
          "output_type": "stream",
          "name": "stdout",
          "text": [
            "Requirement already satisfied: annoy in /usr/local/lib/python3.12/dist-packages (1.17.3)\n"
          ]
        }
      ]
    },
    {
      "cell_type": "code",
      "source": [
        "import numpy as np\n",
        "import matplotlib.pyplot as plt\n",
        "import pandas as pd\n",
        "\n",
        "\n",
        "import scipy.cluster.hierarchy as sch\n",
        "from sklearn.cluster import AgglomerativeClustering\n",
        "from sklearn.impute import SimpleImputer\n",
        "from sklearn.neighbors import NearestNeighbors\n",
        "from sklearn.preprocessing import StandardScaler\n",
        "from sklearn.cluster import KMeans, DBSCAN\n",
        "from sklearn.feature_selection import SelectKBest, f_classif\n",
        "from sklearn.metrics import silhouette_score, davies_bouldin_score\n",
        "from annoy import AnnoyIndex"
      ],
      "metadata": {
        "id": "EIU6YG8G959j"
      },
      "execution_count": 139,
      "outputs": []
    },
    {
      "cell_type": "markdown",
      "metadata": {
        "id": "afbf5fe6"
      },
      "source": [
        "# Case Study 2 - CC General\n",
        "\n",
        "- This case study relates to credit card user data.\n",
        "- For students with attendance numbers 2, 5, 8, 11, etc.\n",
        "- Follow these steps and analyze the results.\n",
        "\n",
        "## Data Preprocessing (20 points)\n",
        "\n",
        "1. Load data (5 points)\n",
        "2. Perform data imputation on missing data. Attach your analysis explaining why you used the chosen imputation method. (10 points)\n",
        "3. Drop irrelevant features (5 points)\n",
        "\n",
        "## Clustering - 1 (30 points)\n",
        "\n",
        "1. Create a cluster model using KMeans with the number of clusters from 1 to 10. (10 points)\n",
        "2. Create an elbow diagram, determine the best number of clusters according to the elbow method, and provide your reasoning. (10 points)\n",
        "3. Calculate the silhouette coefficient value for k=1 to k=10. Based on the silhouette value, what is the best number of clusters? Is it the same as the elbow method? (10 points)\n",
        "\n",
        "NB: You are allowed to perform normalization/standardization before building the clustering model. Observe the clustering results.\n",
        "\n",
        "## Clustering - 2 (20 points)\n",
        "\n",
        "1. Create a cluster model using DBSCAN. How many clusters are produced? (10 points)\n",
        "2. What are the silhouette coefficient and DBI values of the clusters produced by DBSCAN? (10 points)\n",
        "\n",
        "## Feature Selection (30 points)\n",
        "After knowing the performance of the clustering results on the KMeans and DBSCAN models based on the silhouette coefficient and DBI, perform a feature selection process to improve the silhouette coefficient and DBI values. You are allowed to use an iterative process or other methods.\n",
        "\n",
        "1. Which features provide the best silhouette coefficient/DBI values? Include the feature selection process.\n",
        "2. Why did you use that feature selection method?\n",
        "\n",
        "## BONUS - CHALLENGE (30 points)\n",
        "Build an ANNOY model using the data that has gone through the data preprocessing stage. Perform a query with the 5 nearest values. Does ANNOY query the best cluster you have formed?"
      ]
    },
    {
      "cell_type": "markdown",
      "source": [
        "# **Data Preprocessing**"
      ],
      "metadata": {
        "id": "7gGayRNT91C9"
      }
    },
    {
      "cell_type": "code",
      "source": [
        "# 1. Load data (5 points)\n",
        "df = pd.read_csv('/content/drive/MyDrive/MLearning/2_CC_GENERAL.csv')\n",
        "print(\"Data loaded successfully\")\n",
        "print(df.head())"
      ],
      "metadata": {
        "colab": {
          "base_uri": "https://localhost:8080/"
        },
        "id": "u46dSdwL930U",
        "outputId": "fa675aae-633b-4d65-a115-5e446ac595ab"
      },
      "execution_count": 140,
      "outputs": [
        {
          "output_type": "stream",
          "name": "stdout",
          "text": [
            "Data loaded successfully\n",
            "  CUST_ID      BALANCE  BALANCE_FREQUENCY  PURCHASES  ONEOFF_PURCHASES  \\\n",
            "0  C10001    40.900749           0.818182      95.40              0.00   \n",
            "1  C10002  3202.467416           0.909091       0.00              0.00   \n",
            "2  C10003  2495.148862           1.000000     773.17            773.17   \n",
            "3  C10004  1666.670542           0.636364    1499.00           1499.00   \n",
            "4  C10005   817.714335           1.000000      16.00             16.00   \n",
            "\n",
            "   INSTALLMENTS_PURCHASES  CASH_ADVANCE  PURCHASES_FREQUENCY  \\\n",
            "0                    95.4      0.000000             0.166667   \n",
            "1                     0.0   6442.945483             0.000000   \n",
            "2                     0.0      0.000000             1.000000   \n",
            "3                     0.0    205.788017             0.083333   \n",
            "4                     0.0      0.000000             0.083333   \n",
            "\n",
            "   ONEOFF_PURCHASES_FREQUENCY  PURCHASES_INSTALLMENTS_FREQUENCY  \\\n",
            "0                    0.000000                          0.083333   \n",
            "1                    0.000000                          0.000000   \n",
            "2                    1.000000                          0.000000   \n",
            "3                    0.083333                          0.000000   \n",
            "4                    0.083333                          0.000000   \n",
            "\n",
            "   CASH_ADVANCE_FREQUENCY  CASH_ADVANCE_TRX  PURCHASES_TRX  CREDIT_LIMIT  \\\n",
            "0                0.000000                 0              2        1000.0   \n",
            "1                0.250000                 4              0        7000.0   \n",
            "2                0.000000                 0             12        7500.0   \n",
            "3                0.083333                 1              1        7500.0   \n",
            "4                0.000000                 0              1        1200.0   \n",
            "\n",
            "      PAYMENTS  MINIMUM_PAYMENTS  PRC_FULL_PAYMENT  TENURE  \n",
            "0   201.802084        139.509787          0.000000      12  \n",
            "1  4103.032597       1072.340217          0.222222      12  \n",
            "2   622.066742        627.284787          0.000000      12  \n",
            "3     0.000000               NaN          0.000000      12  \n",
            "4   678.334763        244.791237          0.000000      12  \n"
          ]
        }
      ]
    },
    {
      "cell_type": "code",
      "source": [
        "# 2. Perform data imputation on missing data (10 points)\n",
        "print(\"--- 2. Data Imputation ---\")\n",
        "print(\"Missing values before imputation:\")\n",
        "print(df.isnull().sum())\n",
        "\n",
        "imputer = SimpleImputer(strategy='median')\n",
        "df['MINIMUM_PAYMENTS'] = imputer.fit_transform(df[['MINIMUM_PAYMENTS']])\n",
        "df['CREDIT_LIMIT'] = imputer.fit_transform(df[['CREDIT_LIMIT']])\n",
        "\n",
        "print(\"\\nMissing values after imputing with median:\")\n",
        "print(df.isnull().sum())"
      ],
      "metadata": {
        "colab": {
          "base_uri": "https://localhost:8080/"
        },
        "id": "p-FiSPX2AKXJ",
        "outputId": "b1c7f030-0b41-4419-f890-3938a842d88b"
      },
      "execution_count": 141,
      "outputs": [
        {
          "output_type": "stream",
          "name": "stdout",
          "text": [
            "--- 2. Data Imputation ---\n",
            "Missing values before imputation:\n",
            "CUST_ID                               0\n",
            "BALANCE                               0\n",
            "BALANCE_FREQUENCY                     0\n",
            "PURCHASES                             0\n",
            "ONEOFF_PURCHASES                      0\n",
            "INSTALLMENTS_PURCHASES                0\n",
            "CASH_ADVANCE                          0\n",
            "PURCHASES_FREQUENCY                   0\n",
            "ONEOFF_PURCHASES_FREQUENCY            0\n",
            "PURCHASES_INSTALLMENTS_FREQUENCY      0\n",
            "CASH_ADVANCE_FREQUENCY                0\n",
            "CASH_ADVANCE_TRX                      0\n",
            "PURCHASES_TRX                         0\n",
            "CREDIT_LIMIT                          1\n",
            "PAYMENTS                              0\n",
            "MINIMUM_PAYMENTS                    313\n",
            "PRC_FULL_PAYMENT                      0\n",
            "TENURE                                0\n",
            "dtype: int64\n",
            "\n",
            "Missing values after imputing with median:\n",
            "CUST_ID                             0\n",
            "BALANCE                             0\n",
            "BALANCE_FREQUENCY                   0\n",
            "PURCHASES                           0\n",
            "ONEOFF_PURCHASES                    0\n",
            "INSTALLMENTS_PURCHASES              0\n",
            "CASH_ADVANCE                        0\n",
            "PURCHASES_FREQUENCY                 0\n",
            "ONEOFF_PURCHASES_FREQUENCY          0\n",
            "PURCHASES_INSTALLMENTS_FREQUENCY    0\n",
            "CASH_ADVANCE_FREQUENCY              0\n",
            "CASH_ADVANCE_TRX                    0\n",
            "PURCHASES_TRX                       0\n",
            "CREDIT_LIMIT                        0\n",
            "PAYMENTS                            0\n",
            "MINIMUM_PAYMENTS                    0\n",
            "PRC_FULL_PAYMENT                    0\n",
            "TENURE                              0\n",
            "dtype: int64\n"
          ]
        }
      ]
    },
    {
      "cell_type": "markdown",
      "source": [
        "**Attach your analysis explaining why you used the chosen imputation method.**"
      ],
      "metadata": {
        "id": "0uqlZvUlR0Bd"
      }
    },
    {
      "cell_type": "markdown",
      "source": [
        "Answer for Q2 Data Preprocessing:\n",
        "\n",
        "I chose the median for imputation because financial data, such as that in 'CREDIT_LIMIT' and 'MINIMUM_PAYMENTS', is usually subject to outliers, skewed by very few customers who have a really high credit limit. The mean would take these outliers as base values, hence giving a biased replacement value. The median, being the middle value, is more resistant to outliers and provides a better representative measure of the central tendency in this kind of data."
      ],
      "metadata": {
        "id": "hWoOjYx5R4U_"
      }
    },
    {
      "cell_type": "code",
      "source": [
        "# 3. Drop irrelevant features (5 points)\n",
        "df_processed = df.drop('CUST_ID', axis=1)\n",
        "print(\"'CUST_ID' column has been dropped.\")\n",
        "print(\"Shape of the processed data:\", df_processed.shape)\n",
        "print(\"\\nFirst 5 rows of the final processed data:\")\n",
        "print(df_processed.head())"
      ],
      "metadata": {
        "colab": {
          "base_uri": "https://localhost:8080/"
        },
        "id": "AbZpKCk4ANSp",
        "outputId": "1ecfec19-fa86-4e6b-f46a-c87c381cbecf"
      },
      "execution_count": 142,
      "outputs": [
        {
          "output_type": "stream",
          "name": "stdout",
          "text": [
            "'CUST_ID' column has been dropped.\n",
            "Shape of the processed data: (8950, 17)\n",
            "\n",
            "First 5 rows of the final processed data:\n",
            "       BALANCE  BALANCE_FREQUENCY  PURCHASES  ONEOFF_PURCHASES  \\\n",
            "0    40.900749           0.818182      95.40              0.00   \n",
            "1  3202.467416           0.909091       0.00              0.00   \n",
            "2  2495.148862           1.000000     773.17            773.17   \n",
            "3  1666.670542           0.636364    1499.00           1499.00   \n",
            "4   817.714335           1.000000      16.00             16.00   \n",
            "\n",
            "   INSTALLMENTS_PURCHASES  CASH_ADVANCE  PURCHASES_FREQUENCY  \\\n",
            "0                    95.4      0.000000             0.166667   \n",
            "1                     0.0   6442.945483             0.000000   \n",
            "2                     0.0      0.000000             1.000000   \n",
            "3                     0.0    205.788017             0.083333   \n",
            "4                     0.0      0.000000             0.083333   \n",
            "\n",
            "   ONEOFF_PURCHASES_FREQUENCY  PURCHASES_INSTALLMENTS_FREQUENCY  \\\n",
            "0                    0.000000                          0.083333   \n",
            "1                    0.000000                          0.000000   \n",
            "2                    1.000000                          0.000000   \n",
            "3                    0.083333                          0.000000   \n",
            "4                    0.083333                          0.000000   \n",
            "\n",
            "   CASH_ADVANCE_FREQUENCY  CASH_ADVANCE_TRX  PURCHASES_TRX  CREDIT_LIMIT  \\\n",
            "0                0.000000                 0              2        1000.0   \n",
            "1                0.250000                 4              0        7000.0   \n",
            "2                0.000000                 0             12        7500.0   \n",
            "3                0.083333                 1              1        7500.0   \n",
            "4                0.000000                 0              1        1200.0   \n",
            "\n",
            "      PAYMENTS  MINIMUM_PAYMENTS  PRC_FULL_PAYMENT  TENURE  \n",
            "0   201.802084        139.509787          0.000000      12  \n",
            "1  4103.032597       1072.340217          0.222222      12  \n",
            "2   622.066742        627.284787          0.000000      12  \n",
            "3     0.000000        312.343947          0.000000      12  \n",
            "4   678.334763        244.791237          0.000000      12  \n"
          ]
        }
      ]
    },
    {
      "cell_type": "markdown",
      "source": [
        "# **Clustering 1**"
      ],
      "metadata": {
        "id": "wdOPL7-jAl6u"
      }
    },
    {
      "cell_type": "code",
      "source": [
        "scaler = StandardScaler()\n",
        "X_scaled = scaler.fit_transform(df_processed)\n",
        "X_scaled = pd.DataFrame(X_scaled, columns=df_processed.columns)\n",
        "# 1. Create a cluster model using KMeans (10 points)\n",
        "sse = []\n",
        "silhouette_coeffs = []\n",
        "k_range = range(1, 11)\n",
        "\n",
        "for k in k_range:\n",
        "    kmeans = KMeans(n_clusters=k, random_state=42, n_init=10)\n",
        "    kmeans.fit(X_scaled)\n",
        "    sse.append(kmeans.inertia_)\n",
        "    if k > 1:\n",
        "        labels = kmeans.labels_\n",
        "        silhouette_coeffs.append(silhouette_score(X_scaled, labels))\n",
        "\n",
        "print(\"KMeans models built and evaluated.\")"
      ],
      "metadata": {
        "colab": {
          "base_uri": "https://localhost:8080/"
        },
        "id": "OuJ8xzk-BGIe",
        "outputId": "ba76a105-2fae-4c2e-f215-3f367e2ed037"
      },
      "execution_count": 151,
      "outputs": [
        {
          "output_type": "stream",
          "name": "stdout",
          "text": [
            "KMeans models built and evaluated.\n"
          ]
        }
      ]
    },
    {
      "cell_type": "code",
      "source": [
        "# 2. Create an elbow diagram and determine the best number of clusters (10 points)\n",
        "plt.figure(figsize=(10, 6))\n",
        "plt.plot(k_range, sse, 'bo-')\n",
        "plt.xlabel('Number of clusters (k)')\n",
        "plt.ylabel('Sum of Squared Errors (SSE)')\n",
        "plt.title('Elbow Method For Optimal k')\n",
        "plt.xticks(k_range)\n",
        "plt.grid(True)\n",
        "plt.show()\n"
      ],
      "metadata": {
        "colab": {
          "base_uri": "https://localhost:8080/",
          "height": 564
        },
        "id": "OBB2ZwynBKON",
        "outputId": "b7261009-1f1f-46e2-86d5-2cb4f5cfe655"
      },
      "execution_count": 144,
      "outputs": [
        {
          "output_type": "display_data",
          "data": {
            "text/plain": [
              "<Figure size 1000x600 with 1 Axes>"
            ],
            "image/png": "[encoded data removed]"
          },
          "metadata": {}
        }
      ]
    },
    {
      "cell_type": "markdown",
      "source": [
        "**Create an elbow diagram, determine the best number of clusters according to the elbow method, and provide your reasoning.**"
      ],
      "metadata": {
        "id": "XQM1otqcPQ3V"
      }
    },
    {
      "cell_type": "markdown",
      "source": [
        "Answer for Q2 Clustering:\n",
        "\n",
        "We seek to find the \"elbow point,\" where the SSE Sum of Squared Errors decreases/slow down radically. On the plot created, the fall from k=3 to k=4 is huge, whereas beyond k=4, the curve becomes flat. This reflects that after four clusters, the adding of more will not help much."
      ],
      "metadata": {
        "id": "jHZn3tBzPSUj"
      }
    },
    {
      "cell_type": "code",
      "source": [
        "# 3. Calculate the silhouette coefficient (10 points)\n",
        "k_range_silhouette = range(2, 11)\n",
        "plt.figure(figsize=(10, 6))\n",
        "plt.plot(k_range_silhouette, silhouette_coeffs, 'ro-')\n",
        "plt.xlabel('Number of clusters (k)')\n",
        "plt.ylabel('Silhouette Coefficient')\n",
        "plt.title('Silhouette Coefficient For Different k')\n",
        "plt.xticks(k_range_silhouette)\n",
        "plt.grid(True)\n",
        "plt.show()\n",
        "\n",
        "best_k_silhouette = k_range_silhouette[np.argmax(silhouette_coeffs)]\n",
        "print(f\"The best k by Silhouette Score is: {best_k_silhouette} with a score of {max(silhouette_coeffs):.4f}\")"
      ],
      "metadata": {
        "colab": {
          "base_uri": "https://localhost:8080/",
          "height": 582
        },
        "id": "Mws3iQvrBPwp",
        "outputId": "b3166628-5ccb-4234-b206-584790d445f3"
      },
      "execution_count": 145,
      "outputs": [
        {
          "output_type": "display_data",
          "data": {
            "text/plain": [
              "<Figure size 1000x600 with 1 Axes>"
            ],
            "image/png": "[encoded data removed]"
          },
          "metadata": {}
        },
        {
          "output_type": "stream",
          "name": "stdout",
          "text": [
            "The best k by Silhouette Score is: 3 with a score of 0.2510\n"
          ]
        }
      ]
    },
    {
      "cell_type": "markdown",
      "source": [
        "**Based on the silhouette value, what is the best number of clusters? Is it the same as the elbow method? (10 points)**"
      ],
      "metadata": {
        "id": "FfuyzZHJPpkW"
      }
    },
    {
      "cell_type": "markdown",
      "source": [
        "Answer for Q3 Clustering 1:\n",
        "\n",
        "No, it does not agree with the result obtained by the elbow method. This method is more accurate as this method considers both factors intra-cluster cohesion and inter-cluster separation. Though k=4 has a less SSE value, k=3 yields a better-defined cluster structure based on the silhouette score, a stronger measure.\n"
      ],
      "metadata": {
        "id": "oP5jCx5YPsLz"
      }
    },
    {
      "cell_type": "markdown",
      "source": [
        "# **Clustering 2**"
      ],
      "metadata": {
        "id": "J19REt2QBSIu"
      }
    },
    {
      "cell_type": "code",
      "source": [
        "min_samples = 35\n",
        "neighbors = NearestNeighbors(n_neighbors=min_samples)\n",
        "neighbors_fit = neighbors.fit(X_scaled)\n",
        "distances, indices = neighbors_fit.kneighbors(X_scaled)\n",
        "\n",
        "\n",
        "distances = np.sort(distances[:, min_samples-1], axis=0)\n",
        "\n",
        "\n",
        "plt.figure(figsize=(12, 8))\n",
        "plt.plot(distances)\n",
        "plt.title('K-Distance Graph to Find Optimal Epsilon (eps)')\n",
        "plt.xlabel('Data Points (sorted by distance)')\n",
        "plt.ylabel(f'Distance to {min_samples}th Nearest Neighbor')\n",
        "plt.grid(True)\n",
        "plt.show()"
      ],
      "metadata": {
        "id": "05WHJnbNXRxg",
        "outputId": "f307f453-4867-46bc-977d-8314a4913787",
        "colab": {
          "base_uri": "https://localhost:8080/",
          "height": 718
        }
      },
      "execution_count": 146,
      "outputs": [
        {
          "output_type": "display_data",
          "data": {
            "text/plain": [
              "<Figure size 1200x800 with 1 Axes>"
            ],
            "image/png": "[encoded data removed]"
          },
          "metadata": {}
        }
      ]
    },
    {
      "cell_type": "code",
      "source": [
        "dbscan = DBSCAN(eps=1.6, min_samples=5)\n",
        "dbscan_labels = dbscan.fit_predict(X_scaled)\n",
        "\n",
        "n_clusters_dbscan = len(set(dbscan_labels)) - (1 if -1 in dbscan_labels else 0)\n",
        "n_noise = list(dbscan_labels).count(-1)\n",
        "\n",
        "print(f\"DBSCAN produced {n_clusters_dbscan} cluster(s).\")\n",
        "print(f\"It also identified {n_noise} noise points.\")"
      ],
      "metadata": {
        "colab": {
          "base_uri": "https://localhost:8080/"
        },
        "id": "OQUx9Z42BTzP",
        "outputId": "1fd2542d-ad68-4336-ed1c-83f5457e5afe"
      },
      "execution_count": 147,
      "outputs": [
        {
          "output_type": "stream",
          "name": "stdout",
          "text": [
            "DBSCAN produced 3 cluster(s).\n",
            "It also identified 1125 noise points.\n"
          ]
        }
      ]
    },
    {
      "cell_type": "markdown",
      "source": [
        "**How many clusters are produced?**"
      ],
      "metadata": {
        "id": "kxBRAsNZQJtr"
      }
    },
    {
      "cell_type": "markdown",
      "source": [
        "Answer for Q1 Clustering 2:\n",
        "\n",
        "After tuning the parameters to eps=1.6 and min_samples=5, the DBSCAN algorithm successfully produced 3 clusters. It also identified 1125 data points as noise."
      ],
      "metadata": {
        "id": "mlMrAKJMQKlJ"
      }
    },
    {
      "cell_type": "code",
      "source": [
        "# 2. What are the silhouette coefficient and DBI values? (10 points)\n",
        "core_samples_mask = dbscan_labels != -1\n",
        "\n",
        "if n_clusters_dbscan > 1:\n",
        "    silhouette_dbscan = silhouette_score(X_scaled[core_samples_mask], dbscan_labels[core_samples_mask])\n",
        "    dbi_dbscan = davies_bouldin_score(X_scaled[core_samples_mask], dbscan_labels[core_samples_mask])\n",
        "    print(f\"Silhouette Coefficient for DBSCAN clusters: {silhouette_dbscan:.4f}\")\n",
        "    print(f\"Davies-Bouldin Index (DBI) for DBSCAN clusters: {dbi_dbscan:.4f}\")\n",
        "else:\n",
        "    print(\"Cannot calculate metrics as DBSCAN did not find more than one cluster.\")"
      ],
      "metadata": {
        "colab": {
          "base_uri": "https://localhost:8080/"
        },
        "id": "VRW8WwB2BXj3",
        "outputId": "de2d0107-f1e6-4819-8f25-3039e88e2c9d"
      },
      "execution_count": 148,
      "outputs": [
        {
          "output_type": "stream",
          "name": "stdout",
          "text": [
            "Silhouette Coefficient for DBSCAN clusters: 0.2849\n",
            "Davies-Bouldin Index (DBI) for DBSCAN clusters: 0.6178\n"
          ]
        }
      ]
    },
    {
      "cell_type": "markdown",
      "source": [
        "**What are the silhouette coefficient and DBI values of the clusters produced by DBSCAN?**"
      ],
      "metadata": {
        "id": "SRbarZmiTT4v"
      }
    },
    {
      "cell_type": "markdown",
      "source": [
        "Answer for Q2 Clustering 2:\n",
        "\n",
        "Outputs are: Silhouette Coefficient: 0.2849 and Davies-Bouldin Index (DBI): 0.6178. A Silhouette Score close to +1 allows the inference of well-separated clusters. This score of 0.2849 therefore shows that all three clusters are pretty distinct, but there may be some points lying quite near the boundary of a neighboring cluster. DBI can be interpreted as a measure of the similarity between clusters: A lower score means that the clusters are well separated. The score of 0.6178 is strong and corroborates the fact that the three clusters are reasonably compact and well separated among their selves.\n",
        "\n"
      ],
      "metadata": {
        "id": "myGcyPLsTVbc"
      }
    },
    {
      "cell_type": "markdown",
      "source": [
        "# **Feature Selection**"
      ],
      "metadata": {
        "id": "nuKlCo9_G82e"
      }
    },
    {
      "cell_type": "code",
      "source": [
        "best_k = 3\n",
        "kmeans_base = KMeans(n_clusters=best_k, random_state=42, n_init=10)\n",
        "y_pseudo = kmeans_base.fit_predict(X_scaled)\n",
        "\n",
        "results = []\n",
        "print(\"Starting Iterative Feature Selection\")\n",
        "for k_features in range(1, X_scaled.shape[1] + 1):\n",
        "    selector = SelectKBest(score_func=f_classif, k=k_features)\n",
        "    X_selected = selector.fit_transform(X_scaled, y_pseudo)\n",
        "\n",
        "    kmeans_new = KMeans(n_clusters=best_k, random_state=42, n_init=10)\n",
        "    new_labels = kmeans_new.fit_predict(X_selected)\n",
        "\n",
        "    sil_score = silhouette_score(X_selected, new_labels)\n",
        "    dbi_score = davies_bouldin_score(X_selected, new_labels)\n",
        "\n",
        "    selected_features_names = X_scaled.columns[selector.get_support()].tolist()\n",
        "\n",
        "    results.append({\n",
        "        'k_features': k_features,\n",
        "        'silhouette': sil_score,\n",
        "        'dbi': dbi_score,\n",
        "        'features': selected_features_names\n",
        "    })\n",
        "\n",
        "\n",
        "    print(f\"\\n--- Tested with {k_features} feature(s) ---\")\n",
        "    print(f\"  Silhouette: {sil_score:.4f}, DBI: {dbi_score:.4f}\")\n",
        "    print(f\"  Features: {selected_features_names}\")\n",
        "\n",
        "\n",
        "results_df = pd.DataFrame(results)\n",
        "best_silhouette_result = results_df.loc[results_df['silhouette'].idxmax()]\n",
        "best_dbi_result = results_df.loc[results_df['dbi'].idxmin()]\n"
      ],
      "metadata": {
        "colab": {
          "base_uri": "https://localhost:8080/"
        },
        "id": "khDazuVaG_i3",
        "outputId": "341fa5bd-c5e7-448d-c942-41d95a10f187"
      },
      "execution_count": 149,
      "outputs": [
        {
          "output_type": "stream",
          "name": "stdout",
          "text": [
            "Starting Iterative Feature Selection\n",
            "\n",
            "--- Tested with 1 feature(s) ---\n",
            "  Silhouette: 0.7428, DBI: 0.4813\n",
            "  Features: ['CASH_ADVANCE_FREQUENCY']\n",
            "\n",
            "--- Tested with 2 feature(s) ---\n",
            "  Silhouette: 0.5955, DBI: 0.6349\n",
            "  Features: ['CASH_ADVANCE_FREQUENCY', 'PURCHASES_TRX']\n",
            "\n",
            "--- Tested with 3 feature(s) ---\n",
            "  Silhouette: 0.5780, DBI: 0.7835\n",
            "  Features: ['CASH_ADVANCE', 'CASH_ADVANCE_FREQUENCY', 'PURCHASES_TRX']\n",
            "\n",
            "--- Tested with 4 feature(s) ---\n",
            "  Silhouette: 0.4966, DBI: 0.8787\n",
            "  Features: ['CASH_ADVANCE', 'ONEOFF_PURCHASES_FREQUENCY', 'CASH_ADVANCE_FREQUENCY', 'PURCHASES_TRX']\n",
            "\n",
            "--- Tested with 5 feature(s) ---\n",
            "  Silhouette: 0.4969, DBI: 0.8754\n",
            "  Features: ['CASH_ADVANCE', 'ONEOFF_PURCHASES_FREQUENCY', 'CASH_ADVANCE_FREQUENCY', 'CASH_ADVANCE_TRX', 'PURCHASES_TRX']\n",
            "\n",
            "--- Tested with 6 feature(s) ---\n",
            "  Silhouette: 0.4867, DBI: 0.9437\n",
            "  Features: ['PURCHASES', 'CASH_ADVANCE', 'ONEOFF_PURCHASES_FREQUENCY', 'CASH_ADVANCE_FREQUENCY', 'CASH_ADVANCE_TRX', 'PURCHASES_TRX']\n",
            "\n",
            "--- Tested with 7 feature(s) ---\n",
            "  Silhouette: 0.4538, DBI: 1.0566\n",
            "  Features: ['BALANCE', 'PURCHASES', 'CASH_ADVANCE', 'ONEOFF_PURCHASES_FREQUENCY', 'CASH_ADVANCE_FREQUENCY', 'CASH_ADVANCE_TRX', 'PURCHASES_TRX']\n",
            "\n",
            "--- Tested with 8 feature(s) ---\n",
            "  Silhouette: 0.3835, DBI: 1.1277\n",
            "  Features: ['BALANCE', 'PURCHASES', 'CASH_ADVANCE', 'PURCHASES_FREQUENCY', 'ONEOFF_PURCHASES_FREQUENCY', 'CASH_ADVANCE_FREQUENCY', 'CASH_ADVANCE_TRX', 'PURCHASES_TRX']\n",
            "\n",
            "--- Tested with 9 feature(s) ---\n",
            "  Silhouette: 0.3909, DBI: 1.1364\n",
            "  Features: ['BALANCE', 'PURCHASES', 'ONEOFF_PURCHASES', 'CASH_ADVANCE', 'PURCHASES_FREQUENCY', 'ONEOFF_PURCHASES_FREQUENCY', 'CASH_ADVANCE_FREQUENCY', 'CASH_ADVANCE_TRX', 'PURCHASES_TRX']\n",
            "\n",
            "--- Tested with 10 feature(s) ---\n",
            "  Silhouette: 0.3782, DBI: 1.1938\n",
            "  Features: ['BALANCE', 'PURCHASES', 'ONEOFF_PURCHASES', 'INSTALLMENTS_PURCHASES', 'CASH_ADVANCE', 'PURCHASES_FREQUENCY', 'ONEOFF_PURCHASES_FREQUENCY', 'CASH_ADVANCE_FREQUENCY', 'CASH_ADVANCE_TRX', 'PURCHASES_TRX']\n",
            "\n",
            "--- Tested with 11 feature(s) ---\n",
            "  Silhouette: 0.3658, DBI: 1.2428\n",
            "  Features: ['BALANCE', 'PURCHASES', 'ONEOFF_PURCHASES', 'INSTALLMENTS_PURCHASES', 'CASH_ADVANCE', 'PURCHASES_FREQUENCY', 'ONEOFF_PURCHASES_FREQUENCY', 'CASH_ADVANCE_FREQUENCY', 'CASH_ADVANCE_TRX', 'PURCHASES_TRX', 'CREDIT_LIMIT']\n",
            "\n",
            "--- Tested with 12 feature(s) ---\n",
            "  Silhouette: 0.3731, DBI: 1.2767\n",
            "  Features: ['BALANCE', 'PURCHASES', 'ONEOFF_PURCHASES', 'INSTALLMENTS_PURCHASES', 'CASH_ADVANCE', 'PURCHASES_FREQUENCY', 'ONEOFF_PURCHASES_FREQUENCY', 'CASH_ADVANCE_FREQUENCY', 'CASH_ADVANCE_TRX', 'PURCHASES_TRX', 'CREDIT_LIMIT', 'PAYMENTS']\n",
            "\n",
            "--- Tested with 13 feature(s) ---\n",
            "  Silhouette: 0.3345, DBI: 1.3388\n",
            "  Features: ['BALANCE', 'PURCHASES', 'ONEOFF_PURCHASES', 'INSTALLMENTS_PURCHASES', 'CASH_ADVANCE', 'PURCHASES_FREQUENCY', 'ONEOFF_PURCHASES_FREQUENCY', 'PURCHASES_INSTALLMENTS_FREQUENCY', 'CASH_ADVANCE_FREQUENCY', 'CASH_ADVANCE_TRX', 'PURCHASES_TRX', 'CREDIT_LIMIT', 'PAYMENTS']\n",
            "\n",
            "--- Tested with 14 feature(s) ---\n",
            "  Silhouette: 0.2942, DBI: 1.4094\n",
            "  Features: ['BALANCE', 'BALANCE_FREQUENCY', 'PURCHASES', 'ONEOFF_PURCHASES', 'INSTALLMENTS_PURCHASES', 'CASH_ADVANCE', 'PURCHASES_FREQUENCY', 'ONEOFF_PURCHASES_FREQUENCY', 'PURCHASES_INSTALLMENTS_FREQUENCY', 'CASH_ADVANCE_FREQUENCY', 'CASH_ADVANCE_TRX', 'PURCHASES_TRX', 'CREDIT_LIMIT', 'PAYMENTS']\n",
            "\n",
            "--- Tested with 15 feature(s) ---\n",
            "  Silhouette: 0.2687, DBI: 1.4764\n",
            "  Features: ['BALANCE', 'BALANCE_FREQUENCY', 'PURCHASES', 'ONEOFF_PURCHASES', 'INSTALLMENTS_PURCHASES', 'CASH_ADVANCE', 'PURCHASES_FREQUENCY', 'ONEOFF_PURCHASES_FREQUENCY', 'PURCHASES_INSTALLMENTS_FREQUENCY', 'CASH_ADVANCE_FREQUENCY', 'CASH_ADVANCE_TRX', 'PURCHASES_TRX', 'CREDIT_LIMIT', 'PAYMENTS', 'PRC_FULL_PAYMENT']\n",
            "\n",
            "--- Tested with 16 feature(s) ---\n",
            "  Silhouette: 0.2675, DBI: 1.5218\n",
            "  Features: ['BALANCE', 'BALANCE_FREQUENCY', 'PURCHASES', 'ONEOFF_PURCHASES', 'INSTALLMENTS_PURCHASES', 'CASH_ADVANCE', 'PURCHASES_FREQUENCY', 'ONEOFF_PURCHASES_FREQUENCY', 'PURCHASES_INSTALLMENTS_FREQUENCY', 'CASH_ADVANCE_FREQUENCY', 'CASH_ADVANCE_TRX', 'PURCHASES_TRX', 'CREDIT_LIMIT', 'PAYMENTS', 'MINIMUM_PAYMENTS', 'PRC_FULL_PAYMENT']\n",
            "\n",
            "--- Tested with 17 feature(s) ---\n",
            "  Silhouette: 0.2510, DBI: 1.5920\n",
            "  Features: ['BALANCE', 'BALANCE_FREQUENCY', 'PURCHASES', 'ONEOFF_PURCHASES', 'INSTALLMENTS_PURCHASES', 'CASH_ADVANCE', 'PURCHASES_FREQUENCY', 'ONEOFF_PURCHASES_FREQUENCY', 'PURCHASES_INSTALLMENTS_FREQUENCY', 'CASH_ADVANCE_FREQUENCY', 'CASH_ADVANCE_TRX', 'PURCHASES_TRX', 'CREDIT_LIMIT', 'PAYMENTS', 'MINIMUM_PAYMENTS', 'PRC_FULL_PAYMENT', 'TENURE']\n"
          ]
        }
      ]
    },
    {
      "cell_type": "markdown",
      "source": [
        "1. Which features provide the best silhouette coefficient/DBI values? Include the feature selection process.\n",
        "2. Why did you use that feature selection method?"
      ],
      "metadata": {
        "id": "qryrPFKFK_GJ"
      }
    },
    {
      "cell_type": "markdown",
      "source": [
        "Answer for Q1:\n",
        "\n",
        "After running the iterative selection process, we can see that from the result that when using a very small number of feature will yield a better performance. The more feature used, the worse the scores get which indicates that they added more noise than valuable information for clustering\n",
        "\n",
        "Based on the provided output:\n",
        "\n",
        "Silhouette Score(s) Best: 0.7428 with 1 feature\n",
        "\n",
        "Feature: ['CASH_ADVANCE_FREQUENCY']\n",
        "\n",
        "This single feature provides a very high silhouette score, therefore being the most dominating in distinguishing the customers into clusters.\n",
        "\n",
        "Best Davies-Bouldin Index (0.4813) using 1 feature:\n",
        "\n",
        "Feature: ['CASH_ADVANCE_FREQUENCY']\n",
        "\n",
        "This single feature optimizes the DBI also, which is a measure of cluster separation, and further asserts its importance.\n"
      ],
      "metadata": {
        "id": "6xSz8o1-LPMY"
      }
    },
    {
      "cell_type": "markdown",
      "source": [
        "Answer for Q2:\n",
        "\n",
        "I used the Univariate Statistics method with SelectKBest\n",
        "\n",
        "This method is fast and effective for determining the relationship between independent features and a dependent target. Although clustering is an unsupervised task, I adapted the method by creating a \"pseudo-target\" from the best initial KMeans result of k=3.\n"
      ],
      "metadata": {
        "id": "FRMnvJO4L-p7"
      }
    },
    {
      "cell_type": "markdown",
      "source": [
        "# **Bonus Challenge**"
      ],
      "metadata": {
        "id": "fMoRFKvONEkx"
      }
    },
    {
      "cell_type": "code",
      "source": [
        "dimensions = X_scaled.shape[1]\n",
        "annoy_index = AnnoyIndex(dimensions, 'euclidean')\n",
        "\n",
        "for i in range(len(X_scaled)):\n",
        "    annoy_index.add_item(i, X_scaled.iloc[i])\n",
        "\n",
        "annoy_index.build(10)\n",
        "print(\"ANNOY index built successfully with 10 trees.\")\n",
        "\n",
        "\n",
        "np.random.seed(42)\n",
        "query_index = np.random.randint(0, len(X_scaled))\n",
        "query_vector = X_scaled.iloc[query_index]\n",
        "query_cluster = y_pseudo[query_index]\n",
        "\n",
        "# Find the 5 nearest neighbors\n",
        "n_neighbors = 5\n",
        "neighbor_indices = annoy_index.get_nns_by_vector(query_vector, n_neighbors)\n",
        "neighbor_indices = [idx for idx in neighbor_indices if idx != query_index][:n_neighbors]\n",
        "\n",
        "neighbor_clusters = y_pseudo[neighbor_indices]\n",
        "\n",
        "print(\"ANNOY Query Results\")\n",
        "print(f\"Querying for 5 nearest neighbors of data point index: {query_index}\")\n",
        "print(f\"This data point belongs to Cluster: {query_cluster}\")\n",
        "print(f\"\\nANNOY found the following neighbors:\")\n",
        "print(f\"Neighbor Indices: {neighbor_indices}\")\n",
        "print(f\"Their Clusters:   {neighbor_clusters.tolist()}\")"
      ],
      "metadata": {
        "id": "tusosQ9cNKHM",
        "outputId": "57b753e7-dc93-44d8-f434-39ed0008efe1",
        "colab": {
          "base_uri": "https://localhost:8080/"
        }
      },
      "execution_count": 150,
      "outputs": [
        {
          "output_type": "stream",
          "name": "stderr",
          "text": [
            "/tmp/ipython-input-1022158823.py:5: FutureWarning: Series.__getitem__ treating keys as positions is deprecated. In a future version, integer keys will always be treated as labels (consistent with DataFrame behavior). To access a value by position, use `ser.iloc[pos]`\n",
            "  annoy_index.add_item(i, X_scaled.iloc[i])\n"
          ]
        },
        {
          "output_type": "stream",
          "name": "stdout",
          "text": [
            "ANNOY index built successfully with 10 trees.\n",
            "ANNOY Query Results\n",
            "Querying for 5 nearest neighbors of data point index: 7270\n",
            "This data point belongs to Cluster: 0\n",
            "\n",
            "ANNOY found the following neighbors:\n",
            "Neighbor Indices: [5377, 7692, 3304, 1159]\n",
            "Their Clusters:   [0, 0, 1, 1]\n"
          ]
        },
        {
          "output_type": "stream",
          "name": "stderr",
          "text": [
            "/tmp/ipython-input-1022158823.py:18: FutureWarning: Series.__getitem__ treating keys as positions is deprecated. In a future version, integer keys will always be treated as labels (consistent with DataFrame behavior). To access a value by position, use `ser.iloc[pos]`\n",
            "  neighbor_indices = annoy_index.get_nns_by_vector(query_vector, n_neighbors)\n"
          ]
        }
      ]
    },
    {
      "cell_type": "markdown",
      "source": [
        "**Does ANNOY query the best cluster you have formed?**"
      ],
      "metadata": {
        "id": "ZWVxfoi-Oc24"
      }
    },
    {
      "cell_type": "markdown",
      "source": [
        "No, it does not always ask for the best cluster perfectly, and the provided output is a great example of why.\n",
        "\n",
        "It means that the query point, in turn, belongs to Cluster 0 (index 7270), but ANNOY produced five neighbors, and two of them (indices 3304 and 1159) belong to Cluster 1. This just illustrates the \"approximate\" nature of the ANNOY algorithm.\n",
        "\n",
        "This result arises concerning how ANNOY works.\n",
        "\n",
        "In this case, the neighbours from Cluster 1 are very close to the border of Cluster 0. Because ANNOY splits the data space in a way which is random, it found these points as the closest, but a perfect of course much slower search might have found other points belonging exclusively to Cluster 0.\n",
        "\n",
        "This, therefore, is not a failure but a rather practical demonstration of the core in ANNOY's design that trades off a small amount of perfect accuracy for a substantial gain in search speed."
      ],
      "metadata": {
        "id": "7F3YpUPaOgCA"
      }
    }
  ]
}