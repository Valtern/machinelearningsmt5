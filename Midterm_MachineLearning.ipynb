{
  "nbformat": 4,
  "nbformat_minor": 0,
  "metadata": {
    "colab": {
      "provenance": [],
      "authorship_tag": "ABX9TyOAFFEn2TEV/dzAq9c1dQYy",
      "include_colab_link": true
    },
    "kernelspec": {
      "name": "python3",
      "display_name": "Python 3"
    },
    "language_info": {
      "name": "python"
    }
  },
  "cells": [
    {
      "cell_type": "markdown",
      "metadata": {
        "id": "view-in-github",
        "colab_type": "text"
      },
      "source": [
        "<a href=\"https://colab.research.google.com/github/Valtern/machinelearningsmt5/blob/main/Midterm_MachineLearning.ipynb\" target=\"_parent\"><img src=\"https://colab.research.google.com/assets/colab-badge.svg\" alt=\"Open In Colab\"/></a>"
      ]
    },
    {
      "cell_type": "code",
      "execution_count": 1,
      "metadata": {
        "id": "fB-Xs8uFSRj3",
        "colab": {
          "base_uri": "https://localhost:8080/"
        },
        "outputId": "0dae55f7-19d4-4813-8cff-aa4d17aedab8"
      },
      "outputs": [
        {
          "output_type": "stream",
          "name": "stdout",
          "text": [
            "Mounted at /content/drive\n"
          ]
        }
      ],
      "source": [
        "import google.colab.drive\n",
        "google.colab.drive.mount('/content/drive')"
      ]
    },
    {
      "cell_type": "markdown",
      "metadata": {
        "id": "afbf5fe6"
      },
      "source": [
        "# Case Study 2 - CC General\n",
        "\n",
        "- This case study relates to credit card user data.\n",
        "- For students with attendance numbers 2, 5, 8, 11, etc.\n",
        "- Follow these steps and analyze the results.\n",
        "\n",
        "## Data Preprocessing (20 points)\n",
        "\n",
        "1. Load data (5 points)\n",
        "2. Perform data imputation on missing data. Attach your analysis explaining why you used the chosen imputation method. (10 points)\n",
        "3. Drop irrelevant features (5 points)\n",
        "\n",
        "## Clustering - 1 (30 points)\n",
        "\n",
        "1. Create a cluster model using KMeans with the number of clusters from 1 to 10. (10 points)\n",
        "2. Create an elbow diagram, determine the best number of clusters according to the elbow method, and provide your reasoning. (10 points)\n",
        "3. Calculate the silhouette coefficient value for k=1 to k=10. Based on the silhouette value, what is the best number of clusters? Is it the same as the elbow method? (10 points)\n",
        "\n",
        "NB: You are allowed to perform normalization/standardization before building the clustering model. Observe the clustering results.\n",
        "\n",
        "## Clustering - 2 (20 points)\n",
        "\n",
        "1. Create a cluster model using DBSCAN. How many clusters are produced? (10 points)\n",
        "2. What are the silhouette coefficient and DBI values of the clusters produced by DBSCAN? (10 points)\n",
        "\n",
        "## Feature Selection (30 points)\n",
        "After knowing the performance of the clustering results on the KMeans and DBSCAN models based on the silhouette coefficient and DBI, perform a feature selection process to improve the silhouette coefficient and DBI values. You are allowed to use an iterative process or other methods.\n",
        "\n",
        "1. Which features provide the best silhouette coefficient/DBI values? Include the feature selection process.\n",
        "2. Why did you use that feature selection method?\n",
        "\n",
        "## BONUS - CHALLENGE (30 points)\n",
        "Build an ANNOY model using the data that has gone through the data preprocessing stage. Perform a query with the 5 nearest values. Does ANNOY query the best cluster you have formed?"
      ]
    }
  ]
}