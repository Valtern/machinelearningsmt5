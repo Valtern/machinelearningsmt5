{
  "nbformat": 4,
  "nbformat_minor": 0,
  "metadata": {
    "colab": {
      "provenance": [],
      "toc_visible": true,
      "include_colab_link": true
    },
    "kernelspec": {
      "name": "python3",
      "display_name": "Python 3"
    },
    "language_info": {
      "name": "python"
    }
  },
  "cells": [
    {
      "cell_type": "markdown",
      "metadata": {
        "id": "view-in-github",
        "colab_type": "text"
      },
      "source": [
        "<a href=\"https://colab.research.google.com/github/Valtern/machinelearningsmt5/blob/main/QUIZ1_2341720067_Antonius%20Kaharap%20Kautsar.ipynb\" target=\"_parent\"><img src=\"https://colab.research.google.com/assets/colab-badge.svg\" alt=\"Open In Colab\"/></a>"
      ]
    },
    {
      "cell_type": "markdown",
      "source": [
        "# Introduction\n",
        "\n",
        "In this Quiz #1 you need to perform exploratory data analysis (EDA) and preprocessing using \"Census Income\" dataset. The dataset is tabular data which has several missing value in some variables. Moreover, you may need to adjust the name of variables (if needed).\n",
        "\n",
        "To guide you through this task, some code has beed provided including, download the data, loading the data, and metadata inspection."
      ],
      "metadata": {
        "id": "Q4BsBXFH9vHP"
      }
    },
    {
      "cell_type": "markdown",
      "source": [
        "# Load Data and Inspect Metadata"
      ],
      "metadata": {
        "id": "u5GmBdfH-ZF8"
      }
    },
    {
      "cell_type": "code",
      "source": [
        "# Install UCI REPO Library\n",
        "!pip install -q ucimlrepo"
      ],
      "metadata": {
        "id": "NdEOUpxL7vKn"
      },
      "execution_count": 180,
      "outputs": []
    },
    {
      "cell_type": "code",
      "execution_count": 181,
      "metadata": {
        "id": "zxt84M_20lur"
      },
      "outputs": [],
      "source": [
        "\n",
        "# Import Required Libraries\n",
        "import pandas as pd\n",
        "import numpy as np\n",
        "import matplotlib.pyplot as plt\n",
        "import cv2 as cv\n",
        "import seaborn as sns\n",
        "from ucimlrepo import fetch_ucirepo\n",
        "from sklearn.preprocessing import LabelEncoder\n",
        "\n"
      ]
    },
    {
      "cell_type": "code",
      "source": [
        "# fetch data\n",
        "adult_income = fetch_ucirepo(id=2)"
      ],
      "metadata": {
        "id": "T5YAOxUbamtm"
      },
      "execution_count": 182,
      "outputs": []
    },
    {
      "cell_type": "code",
      "source": [
        "# Data\n",
        "X = adult_income.data.features\n",
        "y = adult_income.data.targets\n",
        "\n",
        "# Concate Features and Target\n",
        "df = pd.concat([X, y], axis=1)\n",
        "\n",
        "# Show Top 5\n",
        "df.head()"
      ],
      "metadata": {
        "colab": {
          "base_uri": "https://localhost:8080/",
          "height": 206
        },
        "id": "tGUNghQK8Sqv",
        "outputId": "a3becb50-ad72-4470-f5d4-f88b10936afa"
      },
      "execution_count": 183,
      "outputs": [
        {
          "output_type": "execute_result",
          "data": {
            "text/plain": [
              "   age         workclass  fnlwgt  education  education-num  \\\n",
              "0   39         State-gov   77516  Bachelors             13   \n",
              "1   50  Self-emp-not-inc   83311  Bachelors             13   \n",
              "2   38           Private  215646    HS-grad              9   \n",
              "3   53           Private  234721       11th              7   \n",
              "4   28           Private  338409  Bachelors             13   \n",
              "\n",
              "       marital-status         occupation   relationship   race     sex  \\\n",
              "0       Never-married       Adm-clerical  Not-in-family  White    Male   \n",
              "1  Married-civ-spouse    Exec-managerial        Husband  White    Male   \n",
              "2            Divorced  Handlers-cleaners  Not-in-family  White    Male   \n",
              "3  Married-civ-spouse  Handlers-cleaners        Husband  Black    Male   \n",
              "4  Married-civ-spouse     Prof-specialty           Wife  Black  Female   \n",
              "\n",
              "   capital-gain  capital-loss  hours-per-week native-country income  \n",
              "0          2174             0              40  United-States  <=50K  \n",
              "1             0             0              13  United-States  <=50K  \n",
              "2             0             0              40  United-States  <=50K  \n",
              "3             0             0              40  United-States  <=50K  \n",
              "4             0             0              40           Cuba  <=50K  "
            ],
            "text/html": [
              "\n",
              "  <div id=\"df-b0d2747b-b2c3-4182-822d-65184ae99ef0\" class=\"colab-df-container\">\n",
              "    <div>\n",
              "<style scoped>\n",
              "    .dataframe tbody tr th:only-of-type {\n",
              "        vertical-align: middle;\n",
              "    }\n",
              "\n",
              "    .dataframe tbody tr th {\n",
              "        vertical-align: top;\n",
              "    }\n",
              "\n",
              "    .dataframe thead th {\n",
              "        text-align: right;\n",
              "    }\n",
              "</style>\n",
              "<table border=\"1\" class=\"dataframe\">\n",
              "  <thead>\n",
              "    <tr style=\"text-align: right;\">\n",
              "      <th></th>\n",
              "      <th>age</th>\n",
              "      <th>workclass</th>\n",
              "      <th>fnlwgt</th>\n",
              "      <th>education</th>\n",
              "      <th>education-num</th>\n",
              "      <th>marital-status</th>\n",
              "      <th>occupation</th>\n",
              "      <th>relationship</th>\n",
              "      <th>race</th>\n",
              "      <th>sex</th>\n",
              "      <th>capital-gain</th>\n",
              "      <th>capital-loss</th>\n",
              "      <th>hours-per-week</th>\n",
              "      <th>native-country</th>\n",
              "      <th>income</th>\n",
              "    </tr>\n",
              "  </thead>\n",
              "  <tbody>\n",
              "    <tr>\n",
              "      <th>0</th>\n",
              "      <td>39</td>\n",
              "      <td>State-gov</td>\n",
              "      <td>77516</td>\n",
              "      <td>Bachelors</td>\n",
              "      <td>13</td>\n",
              "      <td>Never-married</td>\n",
              "      <td>Adm-clerical</td>\n",
              "      <td>Not-in-family</td>\n",
              "      <td>White</td>\n",
              "      <td>Male</td>\n",
              "      <td>2174</td>\n",
              "      <td>0</td>\n",
              "      <td>40</td>\n",
              "      <td>United-States</td>\n",
              "      <td>&lt;=50K</td>\n",
              "    </tr>\n",
              "    <tr>\n",
              "      <th>1</th>\n",
              "      <td>50</td>\n",
              "      <td>Self-emp-not-inc</td>\n",
              "      <td>83311</td>\n",
              "      <td>Bachelors</td>\n",
              "      <td>13</td>\n",
              "      <td>Married-civ-spouse</td>\n",
              "      <td>Exec-managerial</td>\n",
              "      <td>Husband</td>\n",
              "      <td>White</td>\n",
              "      <td>Male</td>\n",
              "      <td>0</td>\n",
              "      <td>0</td>\n",
              "      <td>13</td>\n",
              "      <td>United-States</td>\n",
              "      <td>&lt;=50K</td>\n",
              "    </tr>\n",
              "    <tr>\n",
              "      <th>2</th>\n",
              "      <td>38</td>\n",
              "      <td>Private</td>\n",
              "      <td>215646</td>\n",
              "      <td>HS-grad</td>\n",
              "      <td>9</td>\n",
              "      <td>Divorced</td>\n",
              "      <td>Handlers-cleaners</td>\n",
              "      <td>Not-in-family</td>\n",
              "      <td>White</td>\n",
              "      <td>Male</td>\n",
              "      <td>0</td>\n",
              "      <td>0</td>\n",
              "      <td>40</td>\n",
              "      <td>United-States</td>\n",
              "      <td>&lt;=50K</td>\n",
              "    </tr>\n",
              "    <tr>\n",
              "      <th>3</th>\n",
              "      <td>53</td>\n",
              "      <td>Private</td>\n",
              "      <td>234721</td>\n",
              "      <td>11th</td>\n",
              "      <td>7</td>\n",
              "      <td>Married-civ-spouse</td>\n",
              "      <td>Handlers-cleaners</td>\n",
              "      <td>Husband</td>\n",
              "      <td>Black</td>\n",
              "      <td>Male</td>\n",
              "      <td>0</td>\n",
              "      <td>0</td>\n",
              "      <td>40</td>\n",
              "      <td>United-States</td>\n",
              "      <td>&lt;=50K</td>\n",
              "    </tr>\n",
              "    <tr>\n",
              "      <th>4</th>\n",
              "      <td>28</td>\n",
              "      <td>Private</td>\n",
              "      <td>338409</td>\n",
              "      <td>Bachelors</td>\n",
              "      <td>13</td>\n",
              "      <td>Married-civ-spouse</td>\n",
              "      <td>Prof-specialty</td>\n",
              "      <td>Wife</td>\n",
              "      <td>Black</td>\n",
              "      <td>Female</td>\n",
              "      <td>0</td>\n",
              "      <td>0</td>\n",
              "      <td>40</td>\n",
              "      <td>Cuba</td>\n",
              "      <td>&lt;=50K</td>\n",
              "    </tr>\n",
              "  </tbody>\n",
              "</table>\n",
              "</div>\n",
              "    <div class=\"colab-df-buttons\">\n",
              "\n",
              "  <div class=\"colab-df-container\">\n",
              "    <button class=\"colab-df-convert\" onclick=\"convertToInteractive('df-b0d2747b-b2c3-4182-822d-65184ae99ef0')\"\n",
              "            title=\"Convert this dataframe to an interactive table.\"\n",
              "            style=\"display:none;\">\n",
              "\n",
              "  <svg xmlns=\"http://www.w3.org/2000/svg\" height=\"24px\" viewBox=\"0 -960 960 960\">\n",
              "    <path d=\"M120-120v-720h720v720H120Zm60-500h600v-160H180v160Zm220 220h160v-160H400v160Zm0 220h160v-160H400v160ZM180-400h160v-160H180v160Zm440 0h160v-160H620v160ZM180-180h160v-160H180v160Zm440 0h160v-160H620v160Z\"/>\n",
              "  </svg>\n",
              "    </button>\n",
              "\n",
              "  <style>\n",
              "    .colab-df-container {\n",
              "      display:flex;\n",
              "      gap: 12px;\n",
              "    }\n",
              "\n",
              "    .colab-df-convert {\n",
              "      background-color: #E8F0FE;\n",
              "      border: none;\n",
              "      border-radius: 50%;\n",
              "      cursor: pointer;\n",
              "      display: none;\n",
              "      fill: #1967D2;\n",
              "      height: 32px;\n",
              "      padding: 0 0 0 0;\n",
              "      width: 32px;\n",
              "    }\n",
              "\n",
              "    .colab-df-convert:hover {\n",
              "      background-color: #E2EBFA;\n",
              "      box-shadow: 0px 1px 2px rgba(60, 64, 67, 0.3), 0px 1px 3px 1px rgba(60, 64, 67, 0.15);\n",
              "      fill: #174EA6;\n",
              "    }\n",
              "\n",
              "    .colab-df-buttons div {\n",
              "      margin-bottom: 4px;\n",
              "    }\n",
              "\n",
              "    [theme=dark] .colab-df-convert {\n",
              "      background-color: #3B4455;\n",
              "      fill: #D2E3FC;\n",
              "    }\n",
              "\n",
              "    [theme=dark] .colab-df-convert:hover {\n",
              "      background-color: #434B5C;\n",
              "      box-shadow: 0px 1px 3px 1px rgba(0, 0, 0, 0.15);\n",
              "      filter: drop-shadow(0px 1px 2px rgba(0, 0, 0, 0.3));\n",
              "      fill: #FFFFFF;\n",
              "    }\n",
              "  </style>\n",
              "\n",
              "    <script>\n",
              "      const buttonEl =\n",
              "        document.querySelector('#df-b0d2747b-b2c3-4182-822d-65184ae99ef0 button.colab-df-convert');\n",
              "      buttonEl.style.display =\n",
              "        google.colab.kernel.accessAllowed ? 'block' : 'none';\n",
              "\n",
              "      async function convertToInteractive(key) {\n",
              "        const element = document.querySelector('#df-b0d2747b-b2c3-4182-822d-65184ae99ef0');\n",
              "        const dataTable =\n",
              "          await google.colab.kernel.invokeFunction('convertToInteractive',\n",
              "                                                    [key], {});\n",
              "        if (!dataTable) return;\n",
              "\n",
              "        const docLinkHtml = 'Like what you see? Visit the ' +\n",
              "          '<a target=\"_blank\" href=https://colab.research.google.com/notebooks/data_table.ipynb>data table notebook</a>'\n",
              "          + ' to learn more about interactive tables.';\n",
              "        element.innerHTML = '';\n",
              "        dataTable['output_type'] = 'display_data';\n",
              "        await google.colab.output.renderOutput(dataTable, element);\n",
              "        const docLink = document.createElement('div');\n",
              "        docLink.innerHTML = docLinkHtml;\n",
              "        element.appendChild(docLink);\n",
              "      }\n",
              "    </script>\n",
              "  </div>\n",
              "\n",
              "\n",
              "    <div id=\"df-9b359837-342b-4396-b089-c7ebd97f7f8b\">\n",
              "      <button class=\"colab-df-quickchart\" onclick=\"quickchart('df-9b359837-342b-4396-b089-c7ebd97f7f8b')\"\n",
              "                title=\"Suggest charts\"\n",
              "                style=\"display:none;\">\n",
              "\n",
              "<svg xmlns=\"http://www.w3.org/2000/svg\" height=\"24px\"viewBox=\"0 0 24 24\"\n",
              "     width=\"24px\">\n",
              "    <g>\n",
              "        <path d=\"M19 3H5c-1.1 0-2 .9-2 2v14c0 1.1.9 2 2 2h14c1.1 0 2-.9 2-2V5c0-1.1-.9-2-2-2zM9 17H7v-7h2v7zm4 0h-2V7h2v10zm4 0h-2v-4h2v4z\"/>\n",
              "    </g>\n",
              "</svg>\n",
              "      </button>\n",
              "\n",
              "<style>\n",
              "  .colab-df-quickchart {\n",
              "      --bg-color: #E8F0FE;\n",
              "      --fill-color: #1967D2;\n",
              "      --hover-bg-color: #E2EBFA;\n",
              "      --hover-fill-color: #174EA6;\n",
              "      --disabled-fill-color: #AAA;\n",
              "      --disabled-bg-color: #DDD;\n",
              "  }\n",
              "\n",
              "  [theme=dark] .colab-df-quickchart {\n",
              "      --bg-color: #3B4455;\n",
              "      --fill-color: #D2E3FC;\n",
              "      --hover-bg-color: #434B5C;\n",
              "      --hover-fill-color: #FFFFFF;\n",
              "      --disabled-bg-color: #3B4455;\n",
              "      --disabled-fill-color: #666;\n",
              "  }\n",
              "\n",
              "  .colab-df-quickchart {\n",
              "    background-color: var(--bg-color);\n",
              "    border: none;\n",
              "    border-radius: 50%;\n",
              "    cursor: pointer;\n",
              "    display: none;\n",
              "    fill: var(--fill-color);\n",
              "    height: 32px;\n",
              "    padding: 0;\n",
              "    width: 32px;\n",
              "  }\n",
              "\n",
              "  .colab-df-quickchart:hover {\n",
              "    background-color: var(--hover-bg-color);\n",
              "    box-shadow: 0 1px 2px rgba(60, 64, 67, 0.3), 0 1px 3px 1px rgba(60, 64, 67, 0.15);\n",
              "    fill: var(--button-hover-fill-color);\n",
              "  }\n",
              "\n",
              "  .colab-df-quickchart-complete:disabled,\n",
              "  .colab-df-quickchart-complete:disabled:hover {\n",
              "    background-color: var(--disabled-bg-color);\n",
              "    fill: var(--disabled-fill-color);\n",
              "    box-shadow: none;\n",
              "  }\n",
              "\n",
              "  .colab-df-spinner {\n",
              "    border: 2px solid var(--fill-color);\n",
              "    border-color: transparent;\n",
              "    border-bottom-color: var(--fill-color);\n",
              "    animation:\n",
              "      spin 1s steps(1) infinite;\n",
              "  }\n",
              "\n",
              "  @keyframes spin {\n",
              "    0% {\n",
              "      border-color: transparent;\n",
              "      border-bottom-color: var(--fill-color);\n",
              "      border-left-color: var(--fill-color);\n",
              "    }\n",
              "    20% {\n",
              "      border-color: transparent;\n",
              "      border-left-color: var(--fill-color);\n",
              "      border-top-color: var(--fill-color);\n",
              "    }\n",
              "    30% {\n",
              "      border-color: transparent;\n",
              "      border-left-color: var(--fill-color);\n",
              "      border-top-color: var(--fill-color);\n",
              "      border-right-color: var(--fill-color);\n",
              "    }\n",
              "    40% {\n",
              "      border-color: transparent;\n",
              "      border-right-color: var(--fill-color);\n",
              "      border-top-color: var(--fill-color);\n",
              "    }\n",
              "    60% {\n",
              "      border-color: transparent;\n",
              "      border-right-color: var(--fill-color);\n",
              "    }\n",
              "    80% {\n",
              "      border-color: transparent;\n",
              "      border-right-color: var(--fill-color);\n",
              "      border-bottom-color: var(--fill-color);\n",
              "    }\n",
              "    90% {\n",
              "      border-color: transparent;\n",
              "      border-bottom-color: var(--fill-color);\n",
              "    }\n",
              "  }\n",
              "</style>\n",
              "\n",
              "      <script>\n",
              "        async function quickchart(key) {\n",
              "          const quickchartButtonEl =\n",
              "            document.querySelector('#' + key + ' button');\n",
              "          quickchartButtonEl.disabled = true;  // To prevent multiple clicks.\n",
              "          quickchartButtonEl.classList.add('colab-df-spinner');\n",
              "          try {\n",
              "            const charts = await google.colab.kernel.invokeFunction(\n",
              "                'suggestCharts', [key], {});\n",
              "          } catch (error) {\n",
              "            console.error('Error during call to suggestCharts:', error);\n",
              "          }\n",
              "          quickchartButtonEl.classList.remove('colab-df-spinner');\n",
              "          quickchartButtonEl.classList.add('colab-df-quickchart-complete');\n",
              "        }\n",
              "        (() => {\n",
              "          let quickchartButtonEl =\n",
              "            document.querySelector('#df-9b359837-342b-4396-b089-c7ebd97f7f8b button');\n",
              "          quickchartButtonEl.style.display =\n",
              "            google.colab.kernel.accessAllowed ? 'block' : 'none';\n",
              "        })();\n",
              "      </script>\n",
              "    </div>\n",
              "\n",
              "    </div>\n",
              "  </div>\n"
            ],
            "application/vnd.google.colaboratory.intrinsic+json": {
              "type": "dataframe",
              "variable_name": "df",
              "summary": "{\n  \"name\": \"df\",\n  \"rows\": 48842,\n  \"fields\": [\n    {\n      \"column\": \"age\",\n      \"properties\": {\n        \"dtype\": \"number\",\n        \"std\": 13,\n        \"min\": 17,\n        \"max\": 90,\n        \"num_unique_values\": 74,\n        \"samples\": [\n          28,\n          73,\n          35\n        ],\n        \"semantic_type\": \"\",\n        \"description\": \"\"\n      }\n    },\n    {\n      \"column\": \"workclass\",\n      \"properties\": {\n        \"dtype\": \"category\",\n        \"num_unique_values\": 9,\n        \"samples\": [\n          \"Without-pay\",\n          \"Self-emp-not-inc\",\n          \"?\"\n        ],\n        \"semantic_type\": \"\",\n        \"description\": \"\"\n      }\n    },\n    {\n      \"column\": \"fnlwgt\",\n      \"properties\": {\n        \"dtype\": \"number\",\n        \"std\": 105604,\n        \"min\": 12285,\n        \"max\": 1490400,\n        \"num_unique_values\": 28523,\n        \"samples\": [\n          159077,\n          199450,\n          181773\n        ],\n        \"semantic_type\": \"\",\n        \"description\": \"\"\n      }\n    },\n    {\n      \"column\": \"education\",\n      \"properties\": {\n        \"dtype\": \"category\",\n        \"num_unique_values\": 16,\n        \"samples\": [\n          \"Bachelors\",\n          \"HS-grad\",\n          \"Some-college\"\n        ],\n        \"semantic_type\": \"\",\n        \"description\": \"\"\n      }\n    },\n    {\n      \"column\": \"education-num\",\n      \"properties\": {\n        \"dtype\": \"number\",\n        \"std\": 2,\n        \"min\": 1,\n        \"max\": 16,\n        \"num_unique_values\": 16,\n        \"samples\": [\n          13,\n          9,\n          10\n        ],\n        \"semantic_type\": \"\",\n        \"description\": \"\"\n      }\n    },\n    {\n      \"column\": \"marital-status\",\n      \"properties\": {\n        \"dtype\": \"category\",\n        \"num_unique_values\": 7,\n        \"samples\": [\n          \"Never-married\",\n          \"Married-civ-spouse\",\n          \"Married-AF-spouse\"\n        ],\n        \"semantic_type\": \"\",\n        \"description\": \"\"\n      }\n    },\n    {\n      \"column\": \"occupation\",\n      \"properties\": {\n        \"dtype\": \"category\",\n        \"num_unique_values\": 15,\n        \"samples\": [\n          \"Machine-op-inspct\",\n          \"?\",\n          \"Adm-clerical\"\n        ],\n        \"semantic_type\": \"\",\n        \"description\": \"\"\n      }\n    },\n    {\n      \"column\": \"relationship\",\n      \"properties\": {\n        \"dtype\": \"category\",\n        \"num_unique_values\": 6,\n        \"samples\": [\n          \"Not-in-family\",\n          \"Husband\",\n          \"Other-relative\"\n        ],\n        \"semantic_type\": \"\",\n        \"description\": \"\"\n      }\n    },\n    {\n      \"column\": \"race\",\n      \"properties\": {\n        \"dtype\": \"category\",\n        \"num_unique_values\": 5,\n        \"samples\": [\n          \"Black\",\n          \"Other\",\n          \"Asian-Pac-Islander\"\n        ],\n        \"semantic_type\": \"\",\n        \"description\": \"\"\n      }\n    },\n    {\n      \"column\": \"sex\",\n      \"properties\": {\n        \"dtype\": \"category\",\n        \"num_unique_values\": 2,\n        \"samples\": [\n          \"Female\",\n          \"Male\"\n        ],\n        \"semantic_type\": \"\",\n        \"description\": \"\"\n      }\n    },\n    {\n      \"column\": \"capital-gain\",\n      \"properties\": {\n        \"dtype\": \"number\",\n        \"std\": 7452,\n        \"min\": 0,\n        \"max\": 99999,\n        \"num_unique_values\": 123,\n        \"samples\": [\n          2176,\n          10520\n        ],\n        \"semantic_type\": \"\",\n        \"description\": \"\"\n      }\n    },\n    {\n      \"column\": \"capital-loss\",\n      \"properties\": {\n        \"dtype\": \"number\",\n        \"std\": 403,\n        \"min\": 0,\n        \"max\": 4356,\n        \"num_unique_values\": 99,\n        \"samples\": [\n          1974,\n          419\n        ],\n        \"semantic_type\": \"\",\n        \"description\": \"\"\n      }\n    },\n    {\n      \"column\": \"hours-per-week\",\n      \"properties\": {\n        \"dtype\": \"number\",\n        \"std\": 12,\n        \"min\": 1,\n        \"max\": 99,\n        \"num_unique_values\": 96,\n        \"samples\": [\n          97,\n          88\n        ],\n        \"semantic_type\": \"\",\n        \"description\": \"\"\n      }\n    },\n    {\n      \"column\": \"native-country\",\n      \"properties\": {\n        \"dtype\": \"category\",\n        \"num_unique_values\": 42,\n        \"samples\": [\n          \"El-Salvador\",\n          \"Philippines\"\n        ],\n        \"semantic_type\": \"\",\n        \"description\": \"\"\n      }\n    },\n    {\n      \"column\": \"income\",\n      \"properties\": {\n        \"dtype\": \"category\",\n        \"num_unique_values\": 4,\n        \"samples\": [\n          \">50K\",\n          \">50K.\"\n        ],\n        \"semantic_type\": \"\",\n        \"description\": \"\"\n      }\n    }\n  ]\n}"
            }
          },
          "metadata": {},
          "execution_count": 183
        }
      ]
    },
    {
      "cell_type": "code",
      "source": [
        "# Data Size\n",
        "df.shape"
      ],
      "metadata": {
        "colab": {
          "base_uri": "https://localhost:8080/"
        },
        "id": "BHooeqQo8bSS",
        "outputId": "8bdbb620-2880-4957-82c1-b8acb0068f04"
      },
      "execution_count": 184,
      "outputs": [
        {
          "output_type": "execute_result",
          "data": {
            "text/plain": [
              "(48842, 15)"
            ]
          },
          "metadata": {},
          "execution_count": 184
        }
      ]
    },
    {
      "cell_type": "code",
      "source": [
        "# Inspect metadata\n",
        "adult_income.metadata"
      ],
      "metadata": {
        "colab": {
          "base_uri": "https://localhost:8080/"
        },
        "collapsed": true,
        "id": "fuXzSDZkAuhV",
        "outputId": "a4010f61-6d4c-456a-e0a9-8582791466d5"
      },
      "execution_count": 185,
      "outputs": [
        {
          "output_type": "execute_result",
          "data": {
            "text/plain": [
              "{'uci_id': 2,\n",
              " 'name': 'Adult',\n",
              " 'repository_url': 'https://archive.ics.uci.edu/dataset/2/adult',\n",
              " 'data_url': 'https://archive.ics.uci.edu/static/public/2/data.csv',\n",
              " 'abstract': 'Predict whether annual income of an individual exceeds $50K/yr based on census data. Also known as \"Census Income\" dataset. ',\n",
              " 'area': 'Social Science',\n",
              " 'tasks': ['Classification'],\n",
              " 'characteristics': ['Multivariate'],\n",
              " 'num_instances': 48842,\n",
              " 'num_features': 14,\n",
              " 'feature_types': ['Categorical', 'Integer'],\n",
              " 'demographics': ['Age', 'Income', 'Education Level', 'Other', 'Race', 'Sex'],\n",
              " 'target_col': ['income'],\n",
              " 'index_col': None,\n",
              " 'has_missing_values': 'yes',\n",
              " 'missing_values_symbol': 'NaN',\n",
              " 'year_of_dataset_creation': 1996,\n",
              " 'last_updated': 'Tue Sep 24 2024',\n",
              " 'dataset_doi': '10.24432/C5XW20',\n",
              " 'creators': ['Barry Becker', 'Ronny Kohavi'],\n",
              " 'intro_paper': None,\n",
              " 'additional_info': {'summary': \"Extraction was done by Barry Becker from the 1994 Census database.  A set of reasonably clean records was extracted using the following conditions: ((AAGE>16) && (AGI>100) && (AFNLWGT>1)&& (HRSWK>0))\\n\\nPrediction task is to determine whether a person's income is over $50,000 a year.\\n\",\n",
              "  'purpose': None,\n",
              "  'funded_by': None,\n",
              "  'instances_represent': None,\n",
              "  'recommended_data_splits': None,\n",
              "  'sensitive_data': None,\n",
              "  'preprocessing_description': None,\n",
              "  'variable_info': 'Listing of attributes:\\r\\n\\r\\n>50K, <=50K.\\r\\n\\r\\nage: continuous.\\r\\nworkclass: Private, Self-emp-not-inc, Self-emp-inc, Federal-gov, Local-gov, State-gov, Without-pay, Never-worked.\\r\\nfnlwgt: continuous.\\r\\neducation: Bachelors, Some-college, 11th, HS-grad, Prof-school, Assoc-acdm, Assoc-voc, 9th, 7th-8th, 12th, Masters, 1st-4th, 10th, Doctorate, 5th-6th, Preschool.\\r\\neducation-num: continuous.\\r\\nmarital-status: Married-civ-spouse, Divorced, Never-married, Separated, Widowed, Married-spouse-absent, Married-AF-spouse.\\r\\noccupation: Tech-support, Craft-repair, Other-service, Sales, Exec-managerial, Prof-specialty, Handlers-cleaners, Machine-op-inspct, Adm-clerical, Farming-fishing, Transport-moving, Priv-house-serv, Protective-serv, Armed-Forces.\\r\\nrelationship: Wife, Own-child, Husband, Not-in-family, Other-relative, Unmarried.\\r\\nrace: White, Asian-Pac-Islander, Amer-Indian-Eskimo, Other, Black.\\r\\nsex: Female, Male.\\r\\ncapital-gain: continuous.\\r\\ncapital-loss: continuous.\\r\\nhours-per-week: continuous.\\r\\nnative-country: United-States, Cambodia, England, Puerto-Rico, Canada, Germany, Outlying-US(Guam-USVI-etc), India, Japan, Greece, South, China, Cuba, Iran, Honduras, Philippines, Italy, Poland, Jamaica, Vietnam, Mexico, Portugal, Ireland, France, Dominican-Republic, Laos, Ecuador, Taiwan, Haiti, Columbia, Hungary, Guatemala, Nicaragua, Scotland, Thailand, Yugoslavia, El-Salvador, Trinadad&Tobago, Peru, Hong, Holand-Netherlands.',\n",
              "  'citation': None}}"
            ]
          },
          "metadata": {},
          "execution_count": 185
        }
      ]
    },
    {
      "cell_type": "markdown",
      "source": [
        "# Part 1 - Data Loading dan Data Imputation"
      ],
      "metadata": {
        "id": "jqx19MZjSs_w"
      }
    },
    {
      "cell_type": "markdown",
      "source": [
        "## Task 1 (5 points)\n",
        "1.   Do inspection to get the information about dataset\n",
        "2.   **Which variable(s)** has **missing values**? **How many is it**?\n",
        "\n"
      ],
      "metadata": {
        "id": "v4fg9m9S-7W3"
      }
    },
    {
      "cell_type": "code",
      "source": [
        "# Answer task 1 using this cell\n",
        "# You can add another cell after this cell if needed\n",
        "\n",
        "df.isnull().sum()"
      ],
      "metadata": {
        "colab": {
          "base_uri": "https://localhost:8080/",
          "height": 555
        },
        "id": "6cWf0iO8OVhp",
        "outputId": "ef87da60-5961-46e0-d5e2-c9c4a1374666"
      },
      "execution_count": 186,
      "outputs": [
        {
          "output_type": "execute_result",
          "data": {
            "text/plain": [
              "age                 0\n",
              "workclass         963\n",
              "fnlwgt              0\n",
              "education           0\n",
              "education-num       0\n",
              "marital-status      0\n",
              "occupation        966\n",
              "relationship        0\n",
              "race                0\n",
              "sex                 0\n",
              "capital-gain        0\n",
              "capital-loss        0\n",
              "hours-per-week      0\n",
              "native-country    274\n",
              "income              0\n",
              "dtype: int64"
            ],
            "text/html": [
              "<div>\n",
              "<style scoped>\n",
              "    .dataframe tbody tr th:only-of-type {\n",
              "        vertical-align: middle;\n",
              "    }\n",
              "\n",
              "    .dataframe tbody tr th {\n",
              "        vertical-align: top;\n",
              "    }\n",
              "\n",
              "    .dataframe thead th {\n",
              "        text-align: right;\n",
              "    }\n",
              "</style>\n",
              "<table border=\"1\" class=\"dataframe\">\n",
              "  <thead>\n",
              "    <tr style=\"text-align: right;\">\n",
              "      <th></th>\n",
              "      <th>0</th>\n",
              "    </tr>\n",
              "  </thead>\n",
              "  <tbody>\n",
              "    <tr>\n",
              "      <th>age</th>\n",
              "      <td>0</td>\n",
              "    </tr>\n",
              "    <tr>\n",
              "      <th>workclass</th>\n",
              "      <td>963</td>\n",
              "    </tr>\n",
              "    <tr>\n",
              "      <th>fnlwgt</th>\n",
              "      <td>0</td>\n",
              "    </tr>\n",
              "    <tr>\n",
              "      <th>education</th>\n",
              "      <td>0</td>\n",
              "    </tr>\n",
              "    <tr>\n",
              "      <th>education-num</th>\n",
              "      <td>0</td>\n",
              "    </tr>\n",
              "    <tr>\n",
              "      <th>marital-status</th>\n",
              "      <td>0</td>\n",
              "    </tr>\n",
              "    <tr>\n",
              "      <th>occupation</th>\n",
              "      <td>966</td>\n",
              "    </tr>\n",
              "    <tr>\n",
              "      <th>relationship</th>\n",
              "      <td>0</td>\n",
              "    </tr>\n",
              "    <tr>\n",
              "      <th>race</th>\n",
              "      <td>0</td>\n",
              "    </tr>\n",
              "    <tr>\n",
              "      <th>sex</th>\n",
              "      <td>0</td>\n",
              "    </tr>\n",
              "    <tr>\n",
              "      <th>capital-gain</th>\n",
              "      <td>0</td>\n",
              "    </tr>\n",
              "    <tr>\n",
              "      <th>capital-loss</th>\n",
              "      <td>0</td>\n",
              "    </tr>\n",
              "    <tr>\n",
              "      <th>hours-per-week</th>\n",
              "      <td>0</td>\n",
              "    </tr>\n",
              "    <tr>\n",
              "      <th>native-country</th>\n",
              "      <td>274</td>\n",
              "    </tr>\n",
              "    <tr>\n",
              "      <th>income</th>\n",
              "      <td>0</td>\n",
              "    </tr>\n",
              "  </tbody>\n",
              "</table>\n",
              "</div><br><label><b>dtype:</b> int64</label>"
            ]
          },
          "metadata": {},
          "execution_count": 186
        }
      ]
    },
    {
      "cell_type": "markdown",
      "source": [
        "1. I used the isnull().sum() function in order to know how many variable has missing value\n",
        "\n",
        "2. There are 3 variable that has missing value.\n",
        "\n",
        "workclass: 963 missing value\n",
        "occupation: 966 missing value\n",
        "native-country: 274 missing value"
      ],
      "metadata": {
        "id": "ipONpRyYPO3P"
      }
    },
    {
      "cell_type": "markdown",
      "source": [
        "## Task 2 (5 points)\n",
        "1. Perform data imputation on missing values.\n",
        "2. Verified the missing values for each variable. Is it still there?"
      ],
      "metadata": {
        "id": "H-8TfHjl_PMh"
      }
    },
    {
      "cell_type": "code",
      "source": [
        "# Answer task 2 using this cell\n",
        "# You can add another cell after this cell if needed\n",
        "\n",
        "\n",
        "df['workclass'] = df['workclass'].fillna('Private')\n",
        "df['occupation'] = df['occupation'].fillna('Unknown')\n",
        "df['native-country'] = df['native-country'].fillna('Unknown')\n",
        "\n",
        "df.isnull().sum()\n"
      ],
      "metadata": {
        "id": "z54m_zyQAqFO",
        "colab": {
          "base_uri": "https://localhost:8080/",
          "height": 555
        },
        "outputId": "dc3fadc3-75f8-4f07-d83c-89a8fe018d4c"
      },
      "execution_count": 187,
      "outputs": [
        {
          "output_type": "execute_result",
          "data": {
            "text/plain": [
              "age               0\n",
              "workclass         0\n",
              "fnlwgt            0\n",
              "education         0\n",
              "education-num     0\n",
              "marital-status    0\n",
              "occupation        0\n",
              "relationship      0\n",
              "race              0\n",
              "sex               0\n",
              "capital-gain      0\n",
              "capital-loss      0\n",
              "hours-per-week    0\n",
              "native-country    0\n",
              "income            0\n",
              "dtype: int64"
            ],
            "text/html": [
              "<div>\n",
              "<style scoped>\n",
              "    .dataframe tbody tr th:only-of-type {\n",
              "        vertical-align: middle;\n",
              "    }\n",
              "\n",
              "    .dataframe tbody tr th {\n",
              "        vertical-align: top;\n",
              "    }\n",
              "\n",
              "    .dataframe thead th {\n",
              "        text-align: right;\n",
              "    }\n",
              "</style>\n",
              "<table border=\"1\" class=\"dataframe\">\n",
              "  <thead>\n",
              "    <tr style=\"text-align: right;\">\n",
              "      <th></th>\n",
              "      <th>0</th>\n",
              "    </tr>\n",
              "  </thead>\n",
              "  <tbody>\n",
              "    <tr>\n",
              "      <th>age</th>\n",
              "      <td>0</td>\n",
              "    </tr>\n",
              "    <tr>\n",
              "      <th>workclass</th>\n",
              "      <td>0</td>\n",
              "    </tr>\n",
              "    <tr>\n",
              "      <th>fnlwgt</th>\n",
              "      <td>0</td>\n",
              "    </tr>\n",
              "    <tr>\n",
              "      <th>education</th>\n",
              "      <td>0</td>\n",
              "    </tr>\n",
              "    <tr>\n",
              "      <th>education-num</th>\n",
              "      <td>0</td>\n",
              "    </tr>\n",
              "    <tr>\n",
              "      <th>marital-status</th>\n",
              "      <td>0</td>\n",
              "    </tr>\n",
              "    <tr>\n",
              "      <th>occupation</th>\n",
              "      <td>0</td>\n",
              "    </tr>\n",
              "    <tr>\n",
              "      <th>relationship</th>\n",
              "      <td>0</td>\n",
              "    </tr>\n",
              "    <tr>\n",
              "      <th>race</th>\n",
              "      <td>0</td>\n",
              "    </tr>\n",
              "    <tr>\n",
              "      <th>sex</th>\n",
              "      <td>0</td>\n",
              "    </tr>\n",
              "    <tr>\n",
              "      <th>capital-gain</th>\n",
              "      <td>0</td>\n",
              "    </tr>\n",
              "    <tr>\n",
              "      <th>capital-loss</th>\n",
              "      <td>0</td>\n",
              "    </tr>\n",
              "    <tr>\n",
              "      <th>hours-per-week</th>\n",
              "      <td>0</td>\n",
              "    </tr>\n",
              "    <tr>\n",
              "      <th>native-country</th>\n",
              "      <td>0</td>\n",
              "    </tr>\n",
              "    <tr>\n",
              "      <th>income</th>\n",
              "      <td>0</td>\n",
              "    </tr>\n",
              "  </tbody>\n",
              "</table>\n",
              "</div><br><label><b>dtype:</b> int64</label>"
            ]
          },
          "metadata": {},
          "execution_count": 187
        }
      ]
    },
    {
      "cell_type": "markdown",
      "source": [
        "1. I impute the 3 variable that has missing value with \"Private\" and \"Unknown\" since their datatype is object\n",
        "2. No, as proven after using the method for checking missing value. There are no longer any missing value"
      ],
      "metadata": {
        "id": "G3fdlTbsTblx"
      }
    },
    {
      "cell_type": "markdown",
      "source": [
        "## Task 3 (10 points)\n",
        "Do inspection to all the quantitative variables (features). If you found an **inappropriate value(s)**, replace it with '**Others**'. Also, if you found any typos value(s), **fix the typos**."
      ],
      "metadata": {
        "id": "9nhC1bdxAbqE"
      }
    },
    {
      "cell_type": "code",
      "source": [
        "# Answer task 3 using this cell\n",
        "# You can add another cell after this cell if needed\n",
        "\n",
        "\n",
        "cols = ['age', 'fnlwgt', 'capital-gain', 'capital-loss', 'hours-per-week']\n",
        "\n",
        "for col in cols:\n",
        "    lower_limit = df[col].quantile(0.01)\n",
        "    upper_limit = df[col].quantile(0.99)\n",
        "\n",
        "    df[col] = df[col].clip(lower=lower_limit, upper=upper_limit)\n",
        "\n",
        "\n",
        "df[cols].describe()\n"
      ],
      "metadata": {
        "id": "caVHWj3pBDqa",
        "colab": {
          "base_uri": "https://localhost:8080/",
          "height": 300
        },
        "outputId": "2d6c68c1-bbfc-4c39-df2c-33cbe32d2908"
      },
      "execution_count": 188,
      "outputs": [
        {
          "output_type": "execute_result",
          "data": {
            "text/plain": [
              "                age         fnlwgt  capital-gain  capital-loss  hours-per-week\n",
              "count  48842.000000   48842.000000  48842.000000  48842.000000    48842.000000\n",
              "mean      38.590475  188429.787424    625.767331     84.281315       40.373613\n",
              "std       13.553565   99732.675210   2501.944450    384.647196       11.972384\n",
              "min       17.000000   27166.000000      0.000000      0.000000        8.000000\n",
              "25%       28.000000  117550.500000      0.000000      0.000000       40.000000\n",
              "50%       37.000000  178144.500000      0.000000      0.000000       40.000000\n",
              "75%       48.000000  237642.000000      0.000000      0.000000       45.000000\n",
              "max       74.000000  509484.420000  15024.000000   2001.000000       80.000000"
            ],
            "text/html": [
              "\n",
              "  <div id=\"df-4324ea6c-e674-4c92-abfb-a579525bc8cf\" class=\"colab-df-container\">\n",
              "    <div>\n",
              "<style scoped>\n",
              "    .dataframe tbody tr th:only-of-type {\n",
              "        vertical-align: middle;\n",
              "    }\n",
              "\n",
              "    .dataframe tbody tr th {\n",
              "        vertical-align: top;\n",
              "    }\n",
              "\n",
              "    .dataframe thead th {\n",
              "        text-align: right;\n",
              "    }\n",
              "</style>\n",
              "<table border=\"1\" class=\"dataframe\">\n",
              "  <thead>\n",
              "    <tr style=\"text-align: right;\">\n",
              "      <th></th>\n",
              "      <th>age</th>\n",
              "      <th>fnlwgt</th>\n",
              "      <th>capital-gain</th>\n",
              "      <th>capital-loss</th>\n",
              "      <th>hours-per-week</th>\n",
              "    </tr>\n",
              "  </thead>\n",
              "  <tbody>\n",
              "    <tr>\n",
              "      <th>count</th>\n",
              "      <td>48842.000000</td>\n",
              "      <td>48842.000000</td>\n",
              "      <td>48842.000000</td>\n",
              "      <td>48842.000000</td>\n",
              "      <td>48842.000000</td>\n",
              "    </tr>\n",
              "    <tr>\n",
              "      <th>mean</th>\n",
              "      <td>38.590475</td>\n",
              "      <td>188429.787424</td>\n",
              "      <td>625.767331</td>\n",
              "      <td>84.281315</td>\n",
              "      <td>40.373613</td>\n",
              "    </tr>\n",
              "    <tr>\n",
              "      <th>std</th>\n",
              "      <td>13.553565</td>\n",
              "      <td>99732.675210</td>\n",
              "      <td>2501.944450</td>\n",
              "      <td>384.647196</td>\n",
              "      <td>11.972384</td>\n",
              "    </tr>\n",
              "    <tr>\n",
              "      <th>min</th>\n",
              "      <td>17.000000</td>\n",
              "      <td>27166.000000</td>\n",
              "      <td>0.000000</td>\n",
              "      <td>0.000000</td>\n",
              "      <td>8.000000</td>\n",
              "    </tr>\n",
              "    <tr>\n",
              "      <th>25%</th>\n",
              "      <td>28.000000</td>\n",
              "      <td>117550.500000</td>\n",
              "      <td>0.000000</td>\n",
              "      <td>0.000000</td>\n",
              "      <td>40.000000</td>\n",
              "    </tr>\n",
              "    <tr>\n",
              "      <th>50%</th>\n",
              "      <td>37.000000</td>\n",
              "      <td>178144.500000</td>\n",
              "      <td>0.000000</td>\n",
              "      <td>0.000000</td>\n",
              "      <td>40.000000</td>\n",
              "    </tr>\n",
              "    <tr>\n",
              "      <th>75%</th>\n",
              "      <td>48.000000</td>\n",
              "      <td>237642.000000</td>\n",
              "      <td>0.000000</td>\n",
              "      <td>0.000000</td>\n",
              "      <td>45.000000</td>\n",
              "    </tr>\n",
              "    <tr>\n",
              "      <th>max</th>\n",
              "      <td>74.000000</td>\n",
              "      <td>509484.420000</td>\n",
              "      <td>15024.000000</td>\n",
              "      <td>2001.000000</td>\n",
              "      <td>80.000000</td>\n",
              "    </tr>\n",
              "  </tbody>\n",
              "</table>\n",
              "</div>\n",
              "    <div class=\"colab-df-buttons\">\n",
              "\n",
              "  <div class=\"colab-df-container\">\n",
              "    <button class=\"colab-df-convert\" onclick=\"convertToInteractive('df-4324ea6c-e674-4c92-abfb-a579525bc8cf')\"\n",
              "            title=\"Convert this dataframe to an interactive table.\"\n",
              "            style=\"display:none;\">\n",
              "\n",
              "  <svg xmlns=\"http://www.w3.org/2000/svg\" height=\"24px\" viewBox=\"0 -960 960 960\">\n",
              "    <path d=\"M120-120v-720h720v720H120Zm60-500h600v-160H180v160Zm220 220h160v-160H400v160Zm0 220h160v-160H400v160ZM180-400h160v-160H180v160Zm440 0h160v-160H620v160ZM180-180h160v-160H180v160Zm440 0h160v-160H620v160Z\"/>\n",
              "  </svg>\n",
              "    </button>\n",
              "\n",
              "  <style>\n",
              "    .colab-df-container {\n",
              "      display:flex;\n",
              "      gap: 12px;\n",
              "    }\n",
              "\n",
              "    .colab-df-convert {\n",
              "      background-color: #E8F0FE;\n",
              "      border: none;\n",
              "      border-radius: 50%;\n",
              "      cursor: pointer;\n",
              "      display: none;\n",
              "      fill: #1967D2;\n",
              "      height: 32px;\n",
              "      padding: 0 0 0 0;\n",
              "      width: 32px;\n",
              "    }\n",
              "\n",
              "    .colab-df-convert:hover {\n",
              "      background-color: #E2EBFA;\n",
              "      box-shadow: 0px 1px 2px rgba(60, 64, 67, 0.3), 0px 1px 3px 1px rgba(60, 64, 67, 0.15);\n",
              "      fill: #174EA6;\n",
              "    }\n",
              "\n",
              "    .colab-df-buttons div {\n",
              "      margin-bottom: 4px;\n",
              "    }\n",
              "\n",
              "    [theme=dark] .colab-df-convert {\n",
              "      background-color: #3B4455;\n",
              "      fill: #D2E3FC;\n",
              "    }\n",
              "\n",
              "    [theme=dark] .colab-df-convert:hover {\n",
              "      background-color: #434B5C;\n",
              "      box-shadow: 0px 1px 3px 1px rgba(0, 0, 0, 0.15);\n",
              "      filter: drop-shadow(0px 1px 2px rgba(0, 0, 0, 0.3));\n",
              "      fill: #FFFFFF;\n",
              "    }\n",
              "  </style>\n",
              "\n",
              "    <script>\n",
              "      const buttonEl =\n",
              "        document.querySelector('#df-4324ea6c-e674-4c92-abfb-a579525bc8cf button.colab-df-convert');\n",
              "      buttonEl.style.display =\n",
              "        google.colab.kernel.accessAllowed ? 'block' : 'none';\n",
              "\n",
              "      async function convertToInteractive(key) {\n",
              "        const element = document.querySelector('#df-4324ea6c-e674-4c92-abfb-a579525bc8cf');\n",
              "        const dataTable =\n",
              "          await google.colab.kernel.invokeFunction('convertToInteractive',\n",
              "                                                    [key], {});\n",
              "        if (!dataTable) return;\n",
              "\n",
              "        const docLinkHtml = 'Like what you see? Visit the ' +\n",
              "          '<a target=\"_blank\" href=https://colab.research.google.com/notebooks/data_table.ipynb>data table notebook</a>'\n",
              "          + ' to learn more about interactive tables.';\n",
              "        element.innerHTML = '';\n",
              "        dataTable['output_type'] = 'display_data';\n",
              "        await google.colab.output.renderOutput(dataTable, element);\n",
              "        const docLink = document.createElement('div');\n",
              "        docLink.innerHTML = docLinkHtml;\n",
              "        element.appendChild(docLink);\n",
              "      }\n",
              "    </script>\n",
              "  </div>\n",
              "\n",
              "\n",
              "    <div id=\"df-ea8e0f78-38fc-44eb-a873-cd7f7318a0d8\">\n",
              "      <button class=\"colab-df-quickchart\" onclick=\"quickchart('df-ea8e0f78-38fc-44eb-a873-cd7f7318a0d8')\"\n",
              "                title=\"Suggest charts\"\n",
              "                style=\"display:none;\">\n",
              "\n",
              "<svg xmlns=\"http://www.w3.org/2000/svg\" height=\"24px\"viewBox=\"0 0 24 24\"\n",
              "     width=\"24px\">\n",
              "    <g>\n",
              "        <path d=\"M19 3H5c-1.1 0-2 .9-2 2v14c0 1.1.9 2 2 2h14c1.1 0 2-.9 2-2V5c0-1.1-.9-2-2-2zM9 17H7v-7h2v7zm4 0h-2V7h2v10zm4 0h-2v-4h2v4z\"/>\n",
              "    </g>\n",
              "</svg>\n",
              "      </button>\n",
              "\n",
              "<style>\n",
              "  .colab-df-quickchart {\n",
              "      --bg-color: #E8F0FE;\n",
              "      --fill-color: #1967D2;\n",
              "      --hover-bg-color: #E2EBFA;\n",
              "      --hover-fill-color: #174EA6;\n",
              "      --disabled-fill-color: #AAA;\n",
              "      --disabled-bg-color: #DDD;\n",
              "  }\n",
              "\n",
              "  [theme=dark] .colab-df-quickchart {\n",
              "      --bg-color: #3B4455;\n",
              "      --fill-color: #D2E3FC;\n",
              "      --hover-bg-color: #434B5C;\n",
              "      --hover-fill-color: #FFFFFF;\n",
              "      --disabled-bg-color: #3B4455;\n",
              "      --disabled-fill-color: #666;\n",
              "  }\n",
              "\n",
              "  .colab-df-quickchart {\n",
              "    background-color: var(--bg-color);\n",
              "    border: none;\n",
              "    border-radius: 50%;\n",
              "    cursor: pointer;\n",
              "    display: none;\n",
              "    fill: var(--fill-color);\n",
              "    height: 32px;\n",
              "    padding: 0;\n",
              "    width: 32px;\n",
              "  }\n",
              "\n",
              "  .colab-df-quickchart:hover {\n",
              "    background-color: var(--hover-bg-color);\n",
              "    box-shadow: 0 1px 2px rgba(60, 64, 67, 0.3), 0 1px 3px 1px rgba(60, 64, 67, 0.15);\n",
              "    fill: var(--button-hover-fill-color);\n",
              "  }\n",
              "\n",
              "  .colab-df-quickchart-complete:disabled,\n",
              "  .colab-df-quickchart-complete:disabled:hover {\n",
              "    background-color: var(--disabled-bg-color);\n",
              "    fill: var(--disabled-fill-color);\n",
              "    box-shadow: none;\n",
              "  }\n",
              "\n",
              "  .colab-df-spinner {\n",
              "    border: 2px solid var(--fill-color);\n",
              "    border-color: transparent;\n",
              "    border-bottom-color: var(--fill-color);\n",
              "    animation:\n",
              "      spin 1s steps(1) infinite;\n",
              "  }\n",
              "\n",
              "  @keyframes spin {\n",
              "    0% {\n",
              "      border-color: transparent;\n",
              "      border-bottom-color: var(--fill-color);\n",
              "      border-left-color: var(--fill-color);\n",
              "    }\n",
              "    20% {\n",
              "      border-color: transparent;\n",
              "      border-left-color: var(--fill-color);\n",
              "      border-top-color: var(--fill-color);\n",
              "    }\n",
              "    30% {\n",
              "      border-color: transparent;\n",
              "      border-left-color: var(--fill-color);\n",
              "      border-top-color: var(--fill-color);\n",
              "      border-right-color: var(--fill-color);\n",
              "    }\n",
              "    40% {\n",
              "      border-color: transparent;\n",
              "      border-right-color: var(--fill-color);\n",
              "      border-top-color: var(--fill-color);\n",
              "    }\n",
              "    60% {\n",
              "      border-color: transparent;\n",
              "      border-right-color: var(--fill-color);\n",
              "    }\n",
              "    80% {\n",
              "      border-color: transparent;\n",
              "      border-right-color: var(--fill-color);\n",
              "      border-bottom-color: var(--fill-color);\n",
              "    }\n",
              "    90% {\n",
              "      border-color: transparent;\n",
              "      border-bottom-color: var(--fill-color);\n",
              "    }\n",
              "  }\n",
              "</style>\n",
              "\n",
              "      <script>\n",
              "        async function quickchart(key) {\n",
              "          const quickchartButtonEl =\n",
              "            document.querySelector('#' + key + ' button');\n",
              "          quickchartButtonEl.disabled = true;  // To prevent multiple clicks.\n",
              "          quickchartButtonEl.classList.add('colab-df-spinner');\n",
              "          try {\n",
              "            const charts = await google.colab.kernel.invokeFunction(\n",
              "                'suggestCharts', [key], {});\n",
              "          } catch (error) {\n",
              "            console.error('Error during call to suggestCharts:', error);\n",
              "          }\n",
              "          quickchartButtonEl.classList.remove('colab-df-spinner');\n",
              "          quickchartButtonEl.classList.add('colab-df-quickchart-complete');\n",
              "        }\n",
              "        (() => {\n",
              "          let quickchartButtonEl =\n",
              "            document.querySelector('#df-ea8e0f78-38fc-44eb-a873-cd7f7318a0d8 button');\n",
              "          quickchartButtonEl.style.display =\n",
              "            google.colab.kernel.accessAllowed ? 'block' : 'none';\n",
              "        })();\n",
              "      </script>\n",
              "    </div>\n",
              "\n",
              "    </div>\n",
              "  </div>\n"
            ],
            "application/vnd.google.colaboratory.intrinsic+json": {
              "type": "dataframe",
              "summary": "{\n  \"name\": \"df[cols]\",\n  \"rows\": 8,\n  \"fields\": [\n    {\n      \"column\": \"age\",\n      \"properties\": {\n        \"dtype\": \"number\",\n        \"std\": 17255.327915911697,\n        \"min\": 13.553564821485953,\n        \"max\": 48842.0,\n        \"num_unique_values\": 8,\n        \"samples\": [\n          38.59047541050735,\n          37.0,\n          48842.0\n        ],\n        \"semantic_type\": \"\",\n        \"description\": \"\"\n      }\n    },\n    {\n      \"column\": \"fnlwgt\",\n      \"properties\": {\n        \"dtype\": \"number\",\n        \"std\": 152467.48196898293,\n        \"min\": 27166.0,\n        \"max\": 509484.41999999987,\n        \"num_unique_values\": 8,\n        \"samples\": [\n          188429.78742434792,\n          178144.5,\n          48842.0\n        ],\n        \"semantic_type\": \"\",\n        \"description\": \"\"\n      }\n    },\n    {\n      \"column\": \"capital-gain\",\n      \"properties\": {\n        \"dtype\": \"number\",\n        \"std\": 17141.81676277182,\n        \"min\": 0.0,\n        \"max\": 48842.0,\n        \"num_unique_values\": 5,\n        \"samples\": [\n          625.7673313951108,\n          15024.0,\n          2501.9444503178224\n        ],\n        \"semantic_type\": \"\",\n        \"description\": \"\"\n      }\n    },\n    {\n      \"column\": \"capital-loss\",\n      \"properties\": {\n        \"dtype\": \"number\",\n        \"std\": 17157.19661943798,\n        \"min\": 0.0,\n        \"max\": 48842.0,\n        \"num_unique_values\": 5,\n        \"samples\": [\n          84.2813152614553,\n          2001.0,\n          384.6471956695163\n        ],\n        \"semantic_type\": \"\",\n        \"description\": \"\"\n      }\n    },\n    {\n      \"column\": \"hours-per-week\",\n      \"properties\": {\n        \"dtype\": \"number\",\n        \"std\": 17254.86679796451,\n        \"min\": 8.0,\n        \"max\": 48842.0,\n        \"num_unique_values\": 7,\n        \"samples\": [\n          48842.0,\n          40.37361287416568,\n          45.0\n        ],\n        \"semantic_type\": \"\",\n        \"description\": \"\"\n      }\n    }\n  ]\n}"
            }
          },
          "metadata": {},
          "execution_count": 188
        }
      ]
    },
    {
      "cell_type": "markdown",
      "source": [
        "I capped all quantitative varible with the lower and upper bound of 1% and 99% to make sure that the data has the lowest ceiling of 1% of all the quantitative data and the highest ceiling of 99% of all data.\n",
        "\n",
        "Also, I'm pretty confused on how i should replace any inapproriate value with quantitative feature or fix the typos unless you're referring to the qualitative features"
      ],
      "metadata": {
        "id": "0gNCpOb-Y_FA"
      }
    },
    {
      "cell_type": "markdown",
      "source": [
        "# Part 2 - Visual Inspection\n",
        "\n"
      ],
      "metadata": {
        "id": "uKyrwokjSzHX"
      }
    },
    {
      "cell_type": "markdown",
      "source": [
        "## Task 1 - Data Visualization (20 points)\n",
        "Do inspection on this following variabels,\n",
        "1. On the 'age' by using a histogram\n",
        "2. On the 'education' using a barchart\n",
        "3. On the 'income' to 'hours_per_week' by using a boxplot (grouped by income)\n",
        "4. On the 'age' to 'capital-gain' and 'capital-loss' using lineplot (lineplot with multiple x-data)"
      ],
      "metadata": {
        "id": "OrSvvhQuBb4M"
      }
    },
    {
      "cell_type": "code",
      "source": [
        "# Answer 1.1 - Histrogram\n",
        "\n",
        "col_his = ['age']\n",
        "\n",
        "df[col_his].hist(figsize=(8, 5), bins=30)\n",
        "plt.tight_layout()\n",
        "plt.show()"
      ],
      "metadata": {
        "id": "UsGKNL4ABkFK",
        "colab": {
          "base_uri": "https://localhost:8080/",
          "height": 507
        },
        "outputId": "2c5ad63c-d431-4607-c92a-e73d1e5f2c60"
      },
      "execution_count": 189,
      "outputs": [
        {
          "output_type": "display_data",
          "data": {
            "text/plain": [
              "<Figure size 800x500 with 1 Axes>"
            ],
            "image/png": "[encoded data removed]"
          },
          "metadata": {}
        }
      ]
    },
    {
      "cell_type": "code",
      "source": [
        "# Answer 1.2 - Barchart\n",
        "col_his = ['education']\n",
        "\n",
        "df[col_his].value_counts().plot(kind='bar', figsize=(8, 5))\n",
        "plt.tight_layout()\n",
        "plt.show()"
      ],
      "metadata": {
        "id": "AGJfM-6FBowp",
        "colab": {
          "base_uri": "https://localhost:8080/",
          "height": 507
        },
        "outputId": "758f7903-2ad0-4e43-8c74-1bc3bbdaa2b5"
      },
      "execution_count": 190,
      "outputs": [
        {
          "output_type": "display_data",
          "data": {
            "text/plain": [
              "<Figure size 800x500 with 1 Axes>"
            ],
            "image/png": "[encoded data removed]"
          },
          "metadata": {}
        }
      ]
    },
    {
      "cell_type": "code",
      "metadata": {
        "colab": {
          "base_uri": "https://localhost:8080/",
          "height": 487
        },
        "id": "38bec835",
        "outputId": "49513c96-ab14-464a-9922-b03a28f86884"
      },
      "source": [
        "# Answer 1.3 - Boxplot\n",
        "\n",
        "sns.boxplot(x='income', y='hours-per-week', data=df)\n",
        "plt.title('Boxplot of Hours per Week by Income')\n",
        "plt.tight_layout()\n",
        "plt.show()"
      ],
      "execution_count": 191,
      "outputs": [
        {
          "output_type": "display_data",
          "data": {
            "text/plain": [
              "<Figure size 640x480 with 1 Axes>"
            ],
            "image/png": "[encoded data removed]"
          },
          "metadata": {}
        }
      ]
    },
    {
      "cell_type": "code",
      "metadata": {
        "colab": {
          "base_uri": "https://localhost:8080/",
          "height": 564
        },
        "id": "5f9e5d63",
        "outputId": "c4e16684-9b42-4eb3-fde1-2cc7091bdfda"
      },
      "source": [
        "# Answer 1.4 - Lineplot\n",
        "age_trend = df.groupby('age')[['capital-gain', 'capital-loss']].mean()\n",
        "\n",
        "\n",
        "age_trend.plot(figsize=(10, 6), grid=True)\n",
        "plt.title('Average Capital Gain/Loss by Age')\n",
        "plt.ylabel('Average Amount ($)')\n",
        "plt.show()"
      ],
      "execution_count": 192,
      "outputs": [
        {
          "output_type": "display_data",
          "data": {
            "text/plain": [
              "<Figure size 1000x600 with 1 Axes>"
            ],
            "image/png": "[encoded data removed]"
          },
          "metadata": {}
        }
      ]
    },
    {
      "cell_type": "markdown",
      "source": [
        "## Task 2 - Visual Analysis (15 points)\n",
        "1. What kind of distribution showed in 'age'?\n",
        "2. If you find missing values in 'age', what kind of data impute method will you use? Why?\n",
        "3. How many outliner for each category (group) in 'income' related to 'hour-per-week'? Which category has more outlier?"
      ],
      "metadata": {
        "id": "RY2K5QWJB2kQ"
      }
    },
    {
      "cell_type": "code",
      "source": [
        "# Answer with python comment like this -> inline comment\n",
        "\n",
        "'''\n",
        " 1. The histogram for 'age' shows a right-skewed distribution. This means that the bulk of the individuals in the dataset are concentrated in the younger to middle-aged range, with a long \"tail\" of fewer individuals stretching out towards the older ages. \\n\n",
        " 2. I used the impupte method of median, The reason is that the distribution is skewed. the mean is sensitive to skewed data and would be pulled higher by the long tail of older ages, making it a less accurate representation of the center. The median, on the other hand, is robust to outliers and skewed distributions, providing a more reliable measure of the typical age.\\n\n",
        " 3. The '<=50K' income group has 7809 outliers. The '>50K' income group has 510 outliers. Therefore, the '<=50K' category has significantly more outliers in the hours-per-week variable.\n",
        "'''"
      ],
      "metadata": {
        "colab": {
          "base_uri": "https://localhost:8080/",
          "height": 89
        },
        "id": "81Vx8FsKCFdX",
        "outputId": "9095e79c-fd4f-40a3-b889-b84c4a285a30"
      },
      "execution_count": 193,
      "outputs": [
        {
          "output_type": "execute_result",
          "data": {
            "text/plain": [
              "'\\n 1. The histogram for \\'age\\' shows a right-skewed distribution. This means that the bulk of the individuals in the dataset are concentrated in the younger to middle-aged range, with a long \"tail\" of fewer individuals stretching out towards the older ages. \\n\\n 2. I used the impupte method of median, The reason is that the distribution is skewed. the mean is sensitive to skewed data and would be pulled higher by the long tail of older ages, making it a less accurate representation of the center. The median, on the other hand, is robust to outliers and skewed distributions, providing a more reliable measure of the typical age.\\n\\n 3. The \\'<=50K\\' income group has 7809 outliers. The \\'>50K\\' income group has 510 outliers. Therefore, the \\'<=50K\\' category has significantly more outliers in the hours-per-week variable.\\n'"
            ],
            "application/vnd.google.colaboratory.intrinsic+json": {
              "type": "string"
            }
          },
          "metadata": {},
          "execution_count": 193
        }
      ]
    },
    {
      "cell_type": "markdown",
      "source": [
        "**Answer with python comment like this -> inline comment**\n",
        "\n",
        "'''\n",
        " 1. The histogram for 'age' shows a right-skewed distribution. This means that the bulk of the individuals in the dataset are concentrated in the younger to middle-aged range, with a long \"tail\" of fewer individuals stretching out towards the older ages. \\n\n",
        " 2. I used the impupte method of median, The reason is that the distribution is skewed. the mean is sensitive to skewed data and would be pulled higher by the long tail of older ages, making it a less accurate representation of the center. The median, on the other hand, is robust to outliers and skewed distributions, providing a more reliable measure of the typical age.\\n\n",
        " 3. The '<=50K' income group has 7809 outliers. The '>50K' income group has 510 outliers. Therefore, the '<=50K' category has significantly more outliers in the hours-per-week variable.\n",
        "'''"
      ],
      "metadata": {
        "id": "Ce0d1b1Fd8-d"
      }
    },
    {
      "cell_type": "code",
      "source": [
        "def count_outliers(data_series):\n",
        "    Q1 = data_series.quantile(0.25)\n",
        "    Q3 = data_series.quantile(0.75)\n",
        "    IQR = Q3 - Q1\n",
        "    lower_bound = Q1 - 1.5 * IQR\n",
        "    upper_bound = Q3 + 1.5 * IQR\n",
        "    outliers = data_series[(data_series < lower_bound) | (data_series > upper_bound)]\n",
        "    return len(outliers)\n",
        "\n",
        "income_le50k = df[df['income'] == '<=50K']['hours-per-week']\n",
        "income_gt50k = df[df['income'] == '>50K']['hours-per-week']\n",
        "\n",
        "outliers_le50k = count_outliers(income_le50k)\n",
        "outliers_gt50k = count_outliers(income_gt50k)\n",
        "\n",
        "print(f\"Outliers in '<=50K' group: {outliers_le50k}\")\n",
        "print(f\"Outliers in '>50K' group: {outliers_gt50k}\")"
      ],
      "metadata": {
        "id": "qRuv-TovdB31",
        "outputId": "9f2f1c5d-34f2-452f-ff20-5e407395df04",
        "colab": {
          "base_uri": "https://localhost:8080/"
        }
      },
      "execution_count": 194,
      "outputs": [
        {
          "output_type": "stream",
          "name": "stdout",
          "text": [
            "Outliers in '<=50K' group: 7809\n",
            "Outliers in '>50K' group: 510\n"
          ]
        }
      ]
    },
    {
      "cell_type": "markdown",
      "source": [
        "# Part 3 - Encoding in Categorical Variable"
      ],
      "metadata": {
        "id": "ZfbK3ZM6w3gx"
      }
    },
    {
      "cell_type": "markdown",
      "source": [
        "## Task 1 (5 points)\n",
        "Do encoding process on 'Sex' and 'Income', while 'Income' is target variable."
      ],
      "metadata": {
        "id": "8H4vA1kqC37P"
      }
    },
    {
      "cell_type": "code",
      "source": [
        "# Answer task 1 using this cell\n",
        "# You can add another cell after this cell if needed\n",
        "\n",
        "le = LabelEncoder()\n",
        "\n",
        "df['sex'] = le.fit_transform(df['sex'])\n",
        "df['income'] = le.fit_transform(df['income'])\n"
      ],
      "metadata": {
        "id": "0gZd8-W2DBXX"
      },
      "execution_count": 195,
      "outputs": []
    },
    {
      "cell_type": "markdown",
      "source": [
        "I have encoded both sex and income"
      ],
      "metadata": {
        "id": "5jCALTmGfXLf"
      }
    },
    {
      "cell_type": "markdown",
      "source": [
        "# Part 4 - Correlation Analysis"
      ],
      "metadata": {
        "id": "4VnpInIXzHZF"
      }
    },
    {
      "cell_type": "markdown",
      "source": [
        "## Task 1 (10 points)\n",
        "1. Do correlation analysis on the following variabels: 'age', 'education-num', 'hours-per-week', 'capital-gain', 'capital-loss', and 'income' (encoded version from previous task)\n",
        "2. Based on the result, what kind of information you get?"
      ],
      "metadata": {
        "id": "gaxpyTMpDJBe"
      }
    },
    {
      "cell_type": "code",
      "source": [
        "# Answer task 1 using this cell\n",
        "# You can add another cell after this cell if needed\n",
        "\n",
        "corr_matrix = df[['age', 'education-num', 'hours-per-week', 'capital-gain', 'capital-loss', 'income']].corr()\n",
        "\n",
        "plt.figure(figsize=(10, 8))\n",
        "sns.heatmap(corr_matrix, annot=True, cmap='coolwarm', fmt=\".2f\")\n",
        "plt.title('Correlation Heatmap')\n",
        "plt.show()\n",
        "\n",
        "plt.figure"
      ],
      "metadata": {
        "id": "eG9utxYEzKcP",
        "colab": {
          "base_uri": "https://localhost:8080/",
          "height": 1000
        },
        "outputId": "faa3ef58-7015-49db-d7b6-8015c22df1e8"
      },
      "execution_count": 196,
      "outputs": [
        {
          "output_type": "display_data",
          "data": {
            "text/plain": [
              "<Figure size 1000x800 with 2 Axes>"
            ],
            "image/png": "[encoded data removed]"
          },
          "metadata": {}
        },
        {
          "output_type": "execute_result",
          "data": {
            "text/plain": [
              "<function matplotlib.pyplot.figure(num: 'int | str | Figure | SubFigure | None' = None, figsize: 'tuple[float, float] | None' = None, dpi: 'float | None' = None, *, facecolor: 'ColorType | None' = None, edgecolor: 'ColorType | None' = None, frameon: 'bool' = True, FigureClass: 'type[Figure]' = <class 'matplotlib.figure.Figure'>, clear: 'bool' = False, **kwargs) -> 'Figure'>"
            ],
            "text/html": [
              "<div style=\"max-width:800px; border: 1px solid var(--colab-border-color);\"><style>\n",
              "      pre.function-repr-contents {\n",
              "        overflow-x: auto;\n",
              "        padding: 8px 12px;\n",
              "        max-height: 500px;\n",
              "      }\n",
              "\n",
              "      pre.function-repr-contents.function-repr-contents-collapsed {\n",
              "        cursor: pointer;\n",
              "        max-height: 100px;\n",
              "      }\n",
              "    </style>\n",
              "    <pre style=\"white-space: initial; background:\n",
              "         var(--colab-secondary-surface-color); padding: 8px 12px;\n",
              "         border-bottom: 1px solid var(--colab-border-color);\"><b>matplotlib.pyplot.figure</b><br/>def figure(num: int | str | Figure | SubFigure | None=None, figsize: tuple[float, float] | None=None, dpi: float | None=None, *, facecolor: ColorType | None=None, edgecolor: ColorType | None=None, frameon: bool=True, FigureClass: type[Figure]=Figure, clear: bool=False, **kwargs) -&gt; Figure</pre><pre class=\"function-repr-contents function-repr-contents-collapsed\" style=\"\"><a class=\"filepath\" style=\"display:none\" href=\"#\">/usr/local/lib/python3.12/dist-packages/matplotlib/pyplot.py</a>Create a new figure, or activate an existing figure.\n",
              "\n",
              "Parameters\n",
              "----------\n",
              "num : int or str or `.Figure` or `.SubFigure`, optional\n",
              "    A unique identifier for the figure.\n",
              "\n",
              "    If a figure with that identifier already exists, this figure is made\n",
              "    active and returned. An integer refers to the ``Figure.number``\n",
              "    attribute, a string refers to the figure label.\n",
              "\n",
              "    If there is no figure with the identifier or *num* is not given, a new\n",
              "    figure is created, made active and returned.  If *num* is an int, it\n",
              "    will be used for the ``Figure.number`` attribute, otherwise, an\n",
              "    auto-generated integer value is used (starting at 1 and incremented\n",
              "    for each new figure). If *num* is a string, the figure label and the\n",
              "    window title is set to this value.  If num is a ``SubFigure``, its\n",
              "    parent ``Figure`` is activated.\n",
              "\n",
              "figsize : (float, float), default: :rc:`figure.figsize`\n",
              "    Width, height in inches.\n",
              "\n",
              "dpi : float, default: :rc:`figure.dpi`\n",
              "    The resolution of the figure in dots-per-inch.\n",
              "\n",
              "facecolor : :mpltype:`color`, default: :rc:`figure.facecolor`\n",
              "    The background color.\n",
              "\n",
              "edgecolor : :mpltype:`color`, default: :rc:`figure.edgecolor`\n",
              "    The border color.\n",
              "\n",
              "frameon : bool, default: True\n",
              "    If False, suppress drawing the figure frame.\n",
              "\n",
              "FigureClass : subclass of `~matplotlib.figure.Figure`\n",
              "    If set, an instance of this subclass will be created, rather than a\n",
              "    plain `.Figure`.\n",
              "\n",
              "clear : bool, default: False\n",
              "    If True and the figure already exists, then it is cleared.\n",
              "\n",
              "layout : {&#x27;constrained&#x27;, &#x27;compressed&#x27;, &#x27;tight&#x27;, &#x27;none&#x27;, `.LayoutEngine`, None}, default: None\n",
              "    The layout mechanism for positioning of plot elements to avoid\n",
              "    overlapping Axes decorations (labels, ticks, etc). Note that layout\n",
              "    managers can measurably slow down figure display.\n",
              "\n",
              "    - &#x27;constrained&#x27;: The constrained layout solver adjusts Axes sizes\n",
              "      to avoid overlapping Axes decorations.  Can handle complex plot\n",
              "      layouts and colorbars, and is thus recommended.\n",
              "\n",
              "      See :ref:`constrainedlayout_guide`\n",
              "      for examples.\n",
              "\n",
              "    - &#x27;compressed&#x27;: uses the same algorithm as &#x27;constrained&#x27;, but\n",
              "      removes extra space between fixed-aspect-ratio Axes.  Best for\n",
              "      simple grids of Axes.\n",
              "\n",
              "    - &#x27;tight&#x27;: Use the tight layout mechanism. This is a relatively\n",
              "      simple algorithm that adjusts the subplot parameters so that\n",
              "      decorations do not overlap. See `.Figure.set_tight_layout` for\n",
              "      further details.\n",
              "\n",
              "    - &#x27;none&#x27;: Do not use a layout engine.\n",
              "\n",
              "    - A `.LayoutEngine` instance. Builtin layout classes are\n",
              "      `.ConstrainedLayoutEngine` and `.TightLayoutEngine`, more easily\n",
              "      accessible by &#x27;constrained&#x27; and &#x27;tight&#x27;.  Passing an instance\n",
              "      allows third parties to provide their own layout engine.\n",
              "\n",
              "    If not given, fall back to using the parameters *tight_layout* and\n",
              "    *constrained_layout*, including their config defaults\n",
              "    :rc:`figure.autolayout` and :rc:`figure.constrained_layout.use`.\n",
              "\n",
              "**kwargs\n",
              "    Additional keyword arguments are passed to the `.Figure` constructor.\n",
              "\n",
              "Returns\n",
              "-------\n",
              "`~matplotlib.figure.Figure`\n",
              "\n",
              "Notes\n",
              "-----\n",
              "A newly created figure is passed to the `~.FigureCanvasBase.new_manager`\n",
              "method or the `new_figure_manager` function provided by the current\n",
              "backend, which install a canvas and a manager on the figure.\n",
              "\n",
              "Once this is done, :rc:`figure.hooks` are called, one at a time, on the\n",
              "figure; these hooks allow arbitrary customization of the figure (e.g.,\n",
              "attaching callbacks) or of associated elements (e.g., modifying the\n",
              "toolbar).  See :doc:`/gallery/user_interfaces/mplcvd` for an example of\n",
              "toolbar customization.\n",
              "\n",
              "If you are creating many figures, make sure you explicitly call\n",
              "`.pyplot.close` on the figures you are not using, because this will\n",
              "enable pyplot to properly clean up the memory.\n",
              "\n",
              "`~matplotlib.rcParams` defines the default values, which can be modified\n",
              "in the matplotlibrc file.</pre>\n",
              "      <script>\n",
              "      if (google.colab.kernel.accessAllowed && google.colab.files && google.colab.files.view) {\n",
              "        for (const element of document.querySelectorAll('.filepath')) {\n",
              "          element.style.display = 'block'\n",
              "          element.onclick = (event) => {\n",
              "            event.preventDefault();\n",
              "            event.stopPropagation();\n",
              "            google.colab.files.view(element.textContent, 872);\n",
              "          };\n",
              "        }\n",
              "      }\n",
              "      for (const element of document.querySelectorAll('.function-repr-contents')) {\n",
              "        element.onclick = (event) => {\n",
              "          event.preventDefault();\n",
              "          event.stopPropagation();\n",
              "          element.classList.toggle('function-repr-contents-collapsed');\n",
              "        };\n",
              "      }\n",
              "      </script>\n",
              "      </div>"
            ]
          },
          "metadata": {},
          "execution_count": 196
        }
      ]
    },
    {
      "cell_type": "markdown",
      "source": [
        "1. I used the heatmap correlation\n",
        "2. The heatmap suggests that every variable chosen shows some degree of positive connection with income, though most of these links are fairly modest. Among them, capital gain (0.30) and years of education (0.29) stand out the most, hinting that individuals with greater investment returns and longer educational backgrounds are more likely to earn higher wages. Age and hours worked per week also lean in the same direction, though their influence appears less pronounced. Interestingly, capital loss registers the weakest correlation of the set, barely nudging the income relationship at all."
      ],
      "metadata": {
        "id": "BXhfo_2-gv23"
      }
    },
    {
      "cell_type": "code",
      "source": [
        "# Answer task 2 using this cell -> you can use multiple comments style too"
      ],
      "metadata": {
        "id": "E6Ffw5czDuvg"
      },
      "execution_count": 197,
      "outputs": []
    },
    {
      "cell_type": "markdown",
      "source": [
        "# Part 5 - Preprocessing on MNIST Dataset\n",
        "\n",
        "In this part, you need to perform EDA and simple preprocessing on MNIST dataset. This dataset contain images of handwritten digit from 0 to 9. A pre configuration is provided to help you to load the data and inspect some images.\n",
        "\n",
        "Hints:\n",
        "1. You only need to use the **Test** set.\n",
        "2. You need to perform to all of images in test set (10k images). You may need a function to complete this task (optional)."
      ],
      "metadata": {
        "id": "mNXOAokpEtu_"
      }
    },
    {
      "cell_type": "code",
      "source": [
        "# Fetch data and inspect data shape\n",
        "from tensorflow.keras.datasets import mnist\n",
        "import numpy as np\n",
        "import matplotlib.pyplot as plt\n",
        "\n",
        "# Load train & test split\n",
        "(X_train, y_train), (X_test, y_test) = mnist.load_data()\n",
        "\n",
        "print(\"Train shape:\", X_train.shape)\n",
        "print(\"Test shape:\", X_test.shape)"
      ],
      "metadata": {
        "colab": {
          "base_uri": "https://localhost:8080/"
        },
        "id": "10nzXV3OFwy5",
        "outputId": "03d966d2-ba2c-4cb6-8b5c-51f6fbdfe08c"
      },
      "execution_count": 198,
      "outputs": [
        {
          "output_type": "stream",
          "name": "stdout",
          "text": [
            "Train shape: (60000, 28, 28)\n",
            "Test shape: (10000, 28, 28)\n"
          ]
        }
      ]
    },
    {
      "cell_type": "code",
      "source": [
        "# Visual Inspection\n",
        "plt.figure(figsize=(5,5))\n",
        "for i in range(9):\n",
        "    plt.subplot(3,3,i+1)\n",
        "    plt.imshow(X_train[i], cmap=\"gray\")\n",
        "    plt.title(f\"Label: {y_train[i]}\")\n",
        "    plt.axis(\"off\")\n",
        "plt.show()"
      ],
      "metadata": {
        "colab": {
          "base_uri": "https://localhost:8080/",
          "height": 444
        },
        "id": "EDPxprvVGfs9",
        "outputId": "d1c37b8d-5f15-4842-d814-5d1f2a35472b"
      },
      "execution_count": 199,
      "outputs": [
        {
          "output_type": "display_data",
          "data": {
            "text/plain": [
              "<Figure size 500x500 with 9 Axes>"
            ],
            "image/png": "[encoded data removed]"
          },
          "metadata": {}
        }
      ]
    },
    {
      "cell_type": "markdown",
      "source": [
        "## Task 1 (10 points)\n",
        "1. Perform **upsampling** on the images to 32x32\n",
        "2. Show the 5 sample of the result.\n",
        "\n",
        "\n",
        "Hint: You need to store the result in an empty array. Replacing data to the  **X_test** cannot be done due to the shape of the array (10000, (28,28)). You need to create an array which match with the size of the new images."
      ],
      "metadata": {
        "id": "SPmLKWBxG7j1"
      }
    },
    {
      "cell_type": "code",
      "source": [
        "# Answer task 1 using this cell\n",
        "# You can add another cell after this cell if needed\n",
        "\n",
        "\n",
        "# 1. Answer\n",
        "X_test_upsampled = np.zeros((len(X_test), 32, 32))\n",
        "for i in range(len(X_test)):\n",
        "    resized_image = cv.resize(X_test[i], (32, 32), interpolation=cv.INTER_LINEAR)\n",
        "    X_test_upsampled[i] = resized_image\n",
        "\n",
        "print(f\"Shape of original test data: {X_test.shape}\")\n",
        "print(f\"Shape of upsampled test data: {X_test_upsampled.shape}\")\n",
        "\n",
        "\n",
        "# 2. Answer\n",
        "print(\"\\nSample of upsampled images:\")\n",
        "plt.figure(figsize=(10, 4))\n",
        "for i in range(5):\n",
        "    plt.subplot(1, 5, i + 1)\n",
        "    plt.imshow(X_test_upsampled[i], cmap='gray')\n",
        "    plt.title(f\"Label: {y_test[i]}\")\n",
        "    plt.axis('off')\n",
        "plt.show()"
      ],
      "metadata": {
        "id": "zBOU7EelHAAQ",
        "colab": {
          "base_uri": "https://localhost:8080/",
          "height": 263
        },
        "outputId": "99ea5e2c-0821-4963-db3a-a0b2ab5f8a16"
      },
      "execution_count": 200,
      "outputs": [
        {
          "output_type": "stream",
          "name": "stdout",
          "text": [
            "Shape of original test data: (10000, 28, 28)\n",
            "Shape of upsampled test data: (10000, 32, 32)\n",
            "\n",
            "Sample of upsampled images:\n"
          ]
        },
        {
          "output_type": "display_data",
          "data": {
            "text/plain": [
              "<Figure size 1000x400 with 5 Axes>"
            ],
            "image/png": "[encoded data removed]"
          },
          "metadata": {}
        }
      ]
    },
    {
      "cell_type": "markdown",
      "source": [
        "## Task 2 (10 points)\n",
        "Perform normalization, so the pixel value will have a value in range of 0 until 1"
      ],
      "metadata": {
        "id": "lB-S2cDIHCN6"
      }
    },
    {
      "cell_type": "code",
      "source": [
        "# Answer task 2 using this cell\n",
        "# You can add another cell after this cell if needed\n",
        "\n",
        "# Answer for task 2\n",
        "X_test_normalized = X_test_upsampled / 255.0\n",
        "\n",
        "print(f\"Minimum pixel value after normalization: {X_test_normalized.min()}\")\n",
        "print(f\"Maximum pixel value after normalization: {X_test_normalized.max()}\")\n"
      ],
      "metadata": {
        "id": "QIRvhAZ0HKWN",
        "colab": {
          "base_uri": "https://localhost:8080/"
        },
        "outputId": "579dd9b8-c672-4597-b370-200a06c3555d"
      },
      "execution_count": 201,
      "outputs": [
        {
          "output_type": "stream",
          "name": "stdout",
          "text": [
            "Minimum pixel value after normalization: 0.0\n",
            "Maximum pixel value after normalization: 1.0\n"
          ]
        }
      ]
    },
    {
      "cell_type": "markdown",
      "source": [
        "## Task 3 (10 points)\n",
        "Transform / reshape the images into 1 dimensional array. Do it to the all images (after resizing and normalization).\n",
        "\n",
        "Hint: You may need an empty array to store the result"
      ],
      "metadata": {
        "id": "qly7StpYHLM-"
      }
    },
    {
      "cell_type": "code",
      "source": [
        "# Answer task 3 using this cell\n",
        "# You can add another cell after this cell if needed\n",
        "\n",
        "# Answer for task 3\n",
        "X_test_flattened = X_test_normalized.reshape(len(X_test_normalized), -1)\n",
        "\n",
        "print(f\"Shape of original test data: {X_test_normalized.shape}\")\n",
        "print(f\"Shape of flattened test data: {X_test_flattened.shape}\")"
      ],
      "metadata": {
        "id": "3l32YphnHZ8H",
        "colab": {
          "base_uri": "https://localhost:8080/"
        },
        "outputId": "cab19054-4201-4749-cfc6-a94d61cb1e81"
      },
      "execution_count": 202,
      "outputs": [
        {
          "output_type": "stream",
          "name": "stdout",
          "text": [
            "Shape of original test data: (10000, 32, 32)\n",
            "Shape of flattened test data: (10000, 1024)\n"
          ]
        }
      ]
    }
  ]
}